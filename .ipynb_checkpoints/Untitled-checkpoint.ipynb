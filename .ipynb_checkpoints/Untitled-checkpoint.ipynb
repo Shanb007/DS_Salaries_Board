{
 "cells": [
  {
   "cell_type": "code",
   "execution_count": 213,
   "metadata": {},
   "outputs": [],
   "source": [
    "import pandas as pd\n",
    "import numpy as np\n",
    "import seaborn as sns\n",
    "import matplotlib.pyplot as plt\n",
    "import warnings\n",
    "warnings.filterwarnings('ignore')\n",
    "\n",
    "%matplotlib inline"
   ]
  },
  {
   "cell_type": "code",
   "execution_count": 214,
   "metadata": {},
   "outputs": [
    {
     "data": {
      "text/html": [
       "<div>\n",
       "<style scoped>\n",
       "    .dataframe tbody tr th:only-of-type {\n",
       "        vertical-align: middle;\n",
       "    }\n",
       "\n",
       "    .dataframe tbody tr th {\n",
       "        vertical-align: top;\n",
       "    }\n",
       "\n",
       "    .dataframe thead th {\n",
       "        text-align: right;\n",
       "    }\n",
       "</style>\n",
       "<table border=\"1\" class=\"dataframe\">\n",
       "  <thead>\n",
       "    <tr style=\"text-align: right;\">\n",
       "      <th></th>\n",
       "      <th>Job Title</th>\n",
       "      <th>Salary Estimate</th>\n",
       "      <th>Job Description</th>\n",
       "      <th>Rating</th>\n",
       "      <th>Company Name</th>\n",
       "      <th>Location</th>\n",
       "      <th>Size</th>\n",
       "      <th>Founded</th>\n",
       "      <th>Type of ownership</th>\n",
       "      <th>Industry</th>\n",
       "      <th>Sector</th>\n",
       "      <th>Revenue</th>\n",
       "    </tr>\n",
       "  </thead>\n",
       "  <tbody>\n",
       "    <tr>\n",
       "      <th>895</th>\n",
       "      <td>Operations Lead - Platform Health (Data Analys...</td>\n",
       "      <td>₹510K - ₹900K (Glassdoor Est.)</td>\n",
       "      <td>Job Overview:\\nAs an Operations Lead - Platfor...</td>\n",
       "      <td>4.3</td>\n",
       "      <td>sharechat\\n4.3</td>\n",
       "      <td>Bangalore</td>\n",
       "      <td>Size\\n1 to 50 Employees</td>\n",
       "      <td>Type\\nCompany - Private</td>\n",
       "      <td>Revenue\\nUnknown / Non-Applicable</td>\n",
       "      <td>-1</td>\n",
       "      <td>-1</td>\n",
       "      <td>-1</td>\n",
       "    </tr>\n",
       "    <tr>\n",
       "      <th>896</th>\n",
       "      <td>Data Engineer</td>\n",
       "      <td>₹510K - ₹900K (Glassdoor Est.)</td>\n",
       "      <td>The Data Engineer is responsible for design OT...</td>\n",
       "      <td>3.0</td>\n",
       "      <td>TalentNex Consulting Pte Ltd.</td>\n",
       "      <td>India</td>\n",
       "      <td>Size\\n1 to 50 Employees</td>\n",
       "      <td>Type\\nCompany - Private</td>\n",
       "      <td>Revenue\\nUnknown / Non-Applicable</td>\n",
       "      <td>-1</td>\n",
       "      <td>-1</td>\n",
       "      <td>-1</td>\n",
       "    </tr>\n",
       "    <tr>\n",
       "      <th>897</th>\n",
       "      <td>Sr. Analyst- Data Science</td>\n",
       "      <td>₹510K - ₹900K (Glassdoor Est.)</td>\n",
       "      <td>Company Description\\n\\nAbout Merkle\\nMerkle is...</td>\n",
       "      <td>3.9</td>\n",
       "      <td>Merkle Sokrati\\n3.9</td>\n",
       "      <td>Pune</td>\n",
       "      <td>Size\\n501 to 1000 Employees</td>\n",
       "      <td>Founded\\n2009</td>\n",
       "      <td>Type\\nCompany - Private</td>\n",
       "      <td>Industry\\nAdvertising &amp; Marketing</td>\n",
       "      <td>Sector\\nBusiness Service</td>\n",
       "      <td>Revenue\\nUnknown / Non-Applicable</td>\n",
       "    </tr>\n",
       "    <tr>\n",
       "      <th>898</th>\n",
       "      <td>Data Engineer</td>\n",
       "      <td>₹510K - ₹900K (Glassdoor Est.)</td>\n",
       "      <td>MUST HAVE EXPERIENCE IN HIVE, SPARK, AWS/AZURE...</td>\n",
       "      <td>3.6</td>\n",
       "      <td>Symphony Talent\\n3.6</td>\n",
       "      <td>Bangalore</td>\n",
       "      <td>Size\\n201 to 500 Employees</td>\n",
       "      <td>Type\\nCompany - Private</td>\n",
       "      <td>Industry\\nEnterprise Software &amp; Network Solutions</td>\n",
       "      <td>Sector\\nInformation Technology</td>\n",
       "      <td>Revenue\\nUnknown / Non-Applicable</td>\n",
       "      <td>-1</td>\n",
       "    </tr>\n",
       "    <tr>\n",
       "      <th>899</th>\n",
       "      <td>Data Engineer</td>\n",
       "      <td>₹510K - ₹900K (Glassdoor Est.)</td>\n",
       "      <td>Employment Type: Permanent\\n\\nExperience Level...</td>\n",
       "      <td>2.9</td>\n",
       "      <td>NCG</td>\n",
       "      <td>Mumbai</td>\n",
       "      <td>Size\\n1 to 50 Employees</td>\n",
       "      <td>Founded\\n2010</td>\n",
       "      <td>Type\\nCompany - Private</td>\n",
       "      <td>Industry\\nAdvertising &amp; Marketing</td>\n",
       "      <td>Sector\\nBusiness Service</td>\n",
       "      <td>Revenue\\nUnknown / Non-Applicable</td>\n",
       "    </tr>\n",
       "  </tbody>\n",
       "</table>\n",
       "</div>"
      ],
      "text/plain": [
       "                                             Job Title  \\\n",
       "895  Operations Lead - Platform Health (Data Analys...   \n",
       "896                                      Data Engineer   \n",
       "897                          Sr. Analyst- Data Science   \n",
       "898                                      Data Engineer   \n",
       "899                                      Data Engineer   \n",
       "\n",
       "                    Salary Estimate  \\\n",
       "895  ₹510K - ₹900K (Glassdoor Est.)   \n",
       "896  ₹510K - ₹900K (Glassdoor Est.)   \n",
       "897  ₹510K - ₹900K (Glassdoor Est.)   \n",
       "898  ₹510K - ₹900K (Glassdoor Est.)   \n",
       "899  ₹510K - ₹900K (Glassdoor Est.)   \n",
       "\n",
       "                                       Job Description  Rating  \\\n",
       "895  Job Overview:\\nAs an Operations Lead - Platfor...     4.3   \n",
       "896  The Data Engineer is responsible for design OT...     3.0   \n",
       "897  Company Description\\n\\nAbout Merkle\\nMerkle is...     3.9   \n",
       "898  MUST HAVE EXPERIENCE IN HIVE, SPARK, AWS/AZURE...     3.6   \n",
       "899  Employment Type: Permanent\\n\\nExperience Level...     2.9   \n",
       "\n",
       "                      Company Name   Location                         Size  \\\n",
       "895                 sharechat\\n4.3  Bangalore      Size\\n1 to 50 Employees   \n",
       "896  TalentNex Consulting Pte Ltd.      India      Size\\n1 to 50 Employees   \n",
       "897            Merkle Sokrati\\n3.9       Pune  Size\\n501 to 1000 Employees   \n",
       "898           Symphony Talent\\n3.6  Bangalore   Size\\n201 to 500 Employees   \n",
       "899                            NCG     Mumbai      Size\\n1 to 50 Employees   \n",
       "\n",
       "                     Founded  \\\n",
       "895  Type\\nCompany - Private   \n",
       "896  Type\\nCompany - Private   \n",
       "897            Founded\\n2009   \n",
       "898  Type\\nCompany - Private   \n",
       "899            Founded\\n2010   \n",
       "\n",
       "                                     Type of ownership  \\\n",
       "895                  Revenue\\nUnknown / Non-Applicable   \n",
       "896                  Revenue\\nUnknown / Non-Applicable   \n",
       "897                            Type\\nCompany - Private   \n",
       "898  Industry\\nEnterprise Software & Network Solutions   \n",
       "899                            Type\\nCompany - Private   \n",
       "\n",
       "                              Industry                             Sector  \\\n",
       "895                                 -1                                 -1   \n",
       "896                                 -1                                 -1   \n",
       "897  Industry\\nAdvertising & Marketing           Sector\\nBusiness Service   \n",
       "898     Sector\\nInformation Technology  Revenue\\nUnknown / Non-Applicable   \n",
       "899  Industry\\nAdvertising & Marketing           Sector\\nBusiness Service   \n",
       "\n",
       "                               Revenue  \n",
       "895                                 -1  \n",
       "896                                 -1  \n",
       "897  Revenue\\nUnknown / Non-Applicable  \n",
       "898                                 -1  \n",
       "899  Revenue\\nUnknown / Non-Applicable  "
      ]
     },
     "execution_count": 214,
     "metadata": {},
     "output_type": "execute_result"
    }
   ],
   "source": [
    "df = pd.read_csv('gd_jobs.csv')\n",
    "df.tail()"
   ]
  },
  {
   "cell_type": "code",
   "execution_count": 215,
   "metadata": {},
   "outputs": [
    {
     "data": {
      "text/plain": [
       "(900, 12)"
      ]
     },
     "execution_count": 215,
     "metadata": {},
     "output_type": "execute_result"
    }
   ],
   "source": [
    "df.shape"
   ]
  },
  {
   "cell_type": "code",
   "execution_count": 216,
   "metadata": {},
   "outputs": [
    {
     "data": {
      "text/plain": [
       "(866, 12)"
      ]
     },
     "execution_count": 216,
     "metadata": {},
     "output_type": "execute_result"
    }
   ],
   "source": [
    "df1 = df[df['Salary Estimate']!='-1']\n",
    "df1.shape"
   ]
  },
  {
   "cell_type": "code",
   "execution_count": 217,
   "metadata": {},
   "outputs": [
    {
     "data": {
      "text/html": [
       "<div>\n",
       "<style scoped>\n",
       "    .dataframe tbody tr th:only-of-type {\n",
       "        vertical-align: middle;\n",
       "    }\n",
       "\n",
       "    .dataframe tbody tr th {\n",
       "        vertical-align: top;\n",
       "    }\n",
       "\n",
       "    .dataframe thead th {\n",
       "        text-align: right;\n",
       "    }\n",
       "</style>\n",
       "<table border=\"1\" class=\"dataframe\">\n",
       "  <thead>\n",
       "    <tr style=\"text-align: right;\">\n",
       "      <th></th>\n",
       "      <th>Job Title</th>\n",
       "      <th>Salary Estimate</th>\n",
       "      <th>Job Description</th>\n",
       "      <th>Rating</th>\n",
       "      <th>Company Name</th>\n",
       "      <th>Location</th>\n",
       "      <th>Size</th>\n",
       "      <th>Founded</th>\n",
       "      <th>Type of ownership</th>\n",
       "      <th>Industry</th>\n",
       "      <th>Sector</th>\n",
       "      <th>Revenue</th>\n",
       "    </tr>\n",
       "  </thead>\n",
       "  <tbody>\n",
       "    <tr>\n",
       "      <th>32</th>\n",
       "      <td>Senior Python Data Engineer</td>\n",
       "      <td>₹433K - ₹763K (Glassdoor Est.)</td>\n",
       "      <td>StartUs Insights, an international data scienc...</td>\n",
       "      <td>4.6</td>\n",
       "      <td>StartUs Insights\\n4.6</td>\n",
       "      <td>Remote</td>\n",
       "      <td>Size\\n1 to 50 Employees</td>\n",
       "      <td>Founded\\n2014</td>\n",
       "      <td>Type\\nCompany - Private</td>\n",
       "      <td>Industry\\nInternet</td>\n",
       "      <td>Sector\\nInformation Technology</td>\n",
       "      <td>Revenue\\n$1 to $5 million (USD)</td>\n",
       "    </tr>\n",
       "    <tr>\n",
       "      <th>33</th>\n",
       "      <td>Senior Big Data Engineer (Python)</td>\n",
       "      <td>₹433K - ₹763K (Glassdoor Est.)</td>\n",
       "      <td>StartUs Insights, an international data scienc...</td>\n",
       "      <td>4.6</td>\n",
       "      <td>StartUs Insights\\n4.6</td>\n",
       "      <td>Remote</td>\n",
       "      <td>Size\\n1 to 50 Employees</td>\n",
       "      <td>Founded\\n2014</td>\n",
       "      <td>Type\\nCompany - Private</td>\n",
       "      <td>Industry\\nInternet</td>\n",
       "      <td>Sector\\nInformation Technology</td>\n",
       "      <td>Revenue\\n$1 to $5 million (USD)</td>\n",
       "    </tr>\n",
       "    <tr>\n",
       "      <th>34</th>\n",
       "      <td>Data Scientist</td>\n",
       "      <td>₹433K - ₹763K (Glassdoor Est.)</td>\n",
       "      <td>About Us:\\nMobiKwik is India's largest indepen...</td>\n",
       "      <td>3.9</td>\n",
       "      <td>MobiKwik\\n3.9</td>\n",
       "      <td>Gurgaon</td>\n",
       "      <td>Size\\n201 to 500 Employees</td>\n",
       "      <td>Founded\\n2009</td>\n",
       "      <td>Type\\nCompany - Private</td>\n",
       "      <td>Industry\\nFinancial Transaction Processing</td>\n",
       "      <td>Sector\\nFinance</td>\n",
       "      <td>Revenue\\nUnknown / Non-Applicable</td>\n",
       "    </tr>\n",
       "    <tr>\n",
       "      <th>35</th>\n",
       "      <td>Data Scientist</td>\n",
       "      <td>₹433K - ₹763K (Glassdoor Est.)</td>\n",
       "      <td>Ahmedabad\\nBe a part of the movement to revolu...</td>\n",
       "      <td>-1.0</td>\n",
       "      <td>R3coder</td>\n",
       "      <td>Ahmedabad</td>\n",
       "      <td>Size\\nUnknown</td>\n",
       "      <td>Type\\nCompany - Private</td>\n",
       "      <td>Revenue\\nUnknown / Non-Applicable</td>\n",
       "      <td>-1</td>\n",
       "      <td>-1</td>\n",
       "      <td>-1</td>\n",
       "    </tr>\n",
       "    <tr>\n",
       "      <th>36</th>\n",
       "      <td>Data Scientist</td>\n",
       "      <td>₹433K - ₹763K (Glassdoor Est.)</td>\n",
       "      <td>Job Description\\n\\nOffice No.13, B1, Galaxy Si...</td>\n",
       "      <td>4.2</td>\n",
       "      <td>Thomson Reuters\\n4.2</td>\n",
       "      <td>Ahmedabad</td>\n",
       "      <td>Size\\n10000+ Employees</td>\n",
       "      <td>Founded\\n2008</td>\n",
       "      <td>Type\\nCompany - Public</td>\n",
       "      <td>Industry\\nEnterprise Software &amp; Network Solutions</td>\n",
       "      <td>Sector\\nInformation Technology</td>\n",
       "      <td>Revenue\\n$5 to $10 billion (USD)</td>\n",
       "    </tr>\n",
       "  </tbody>\n",
       "</table>\n",
       "</div>"
      ],
      "text/plain": [
       "                            Job Title                 Salary Estimate  \\\n",
       "32        Senior Python Data Engineer  ₹433K - ₹763K (Glassdoor Est.)   \n",
       "33  Senior Big Data Engineer (Python)  ₹433K - ₹763K (Glassdoor Est.)   \n",
       "34                     Data Scientist  ₹433K - ₹763K (Glassdoor Est.)   \n",
       "35                     Data Scientist  ₹433K - ₹763K (Glassdoor Est.)   \n",
       "36                     Data Scientist  ₹433K - ₹763K (Glassdoor Est.)   \n",
       "\n",
       "                                      Job Description  Rating  \\\n",
       "32  StartUs Insights, an international data scienc...     4.6   \n",
       "33  StartUs Insights, an international data scienc...     4.6   \n",
       "34  About Us:\\nMobiKwik is India's largest indepen...     3.9   \n",
       "35  Ahmedabad\\nBe a part of the movement to revolu...    -1.0   \n",
       "36  Job Description\\n\\nOffice No.13, B1, Galaxy Si...     4.2   \n",
       "\n",
       "             Company Name   Location                        Size  \\\n",
       "32  StartUs Insights\\n4.6     Remote     Size\\n1 to 50 Employees   \n",
       "33  StartUs Insights\\n4.6     Remote     Size\\n1 to 50 Employees   \n",
       "34          MobiKwik\\n3.9    Gurgaon  Size\\n201 to 500 Employees   \n",
       "35                R3coder  Ahmedabad               Size\\nUnknown   \n",
       "36   Thomson Reuters\\n4.2  Ahmedabad      Size\\n10000+ Employees   \n",
       "\n",
       "                    Founded                  Type of ownership  \\\n",
       "32            Founded\\n2014            Type\\nCompany - Private   \n",
       "33            Founded\\n2014            Type\\nCompany - Private   \n",
       "34            Founded\\n2009            Type\\nCompany - Private   \n",
       "35  Type\\nCompany - Private  Revenue\\nUnknown / Non-Applicable   \n",
       "36            Founded\\n2008             Type\\nCompany - Public   \n",
       "\n",
       "                                             Industry  \\\n",
       "32                                 Industry\\nInternet   \n",
       "33                                 Industry\\nInternet   \n",
       "34         Industry\\nFinancial Transaction Processing   \n",
       "35                                                 -1   \n",
       "36  Industry\\nEnterprise Software & Network Solutions   \n",
       "\n",
       "                            Sector                            Revenue  \n",
       "32  Sector\\nInformation Technology    Revenue\\n$1 to $5 million (USD)  \n",
       "33  Sector\\nInformation Technology    Revenue\\n$1 to $5 million (USD)  \n",
       "34                 Sector\\nFinance  Revenue\\nUnknown / Non-Applicable  \n",
       "35                              -1                                 -1  \n",
       "36  Sector\\nInformation Technology   Revenue\\n$5 to $10 billion (USD)  "
      ]
     },
     "execution_count": 217,
     "metadata": {},
     "output_type": "execute_result"
    }
   ],
   "source": [
    "df1.head()"
   ]
  },
  {
   "cell_type": "code",
   "execution_count": 218,
   "metadata": {},
   "outputs": [
    {
     "data": {
      "text/html": [
       "<div>\n",
       "<style scoped>\n",
       "    .dataframe tbody tr th:only-of-type {\n",
       "        vertical-align: middle;\n",
       "    }\n",
       "\n",
       "    .dataframe tbody tr th {\n",
       "        vertical-align: top;\n",
       "    }\n",
       "\n",
       "    .dataframe thead th {\n",
       "        text-align: right;\n",
       "    }\n",
       "</style>\n",
       "<table border=\"1\" class=\"dataframe\">\n",
       "  <thead>\n",
       "    <tr style=\"text-align: right;\">\n",
       "      <th></th>\n",
       "      <th>Job Title</th>\n",
       "      <th>Salary Estimate</th>\n",
       "      <th>Job Description</th>\n",
       "      <th>Rating</th>\n",
       "      <th>Company Name</th>\n",
       "      <th>Location</th>\n",
       "      <th>Size</th>\n",
       "      <th>Founded</th>\n",
       "      <th>Type of ownership</th>\n",
       "      <th>Industry</th>\n",
       "      <th>Sector</th>\n",
       "      <th>Revenue</th>\n",
       "    </tr>\n",
       "  </thead>\n",
       "  <tbody>\n",
       "    <tr>\n",
       "      <th>32</th>\n",
       "      <td>Senior Python Data Engineer</td>\n",
       "      <td>₹433K - ₹763K</td>\n",
       "      <td>StartUs Insights, an international data scienc...</td>\n",
       "      <td>4.6</td>\n",
       "      <td>StartUs Insights\\n4.6</td>\n",
       "      <td>Remote</td>\n",
       "      <td>Size\\n1 to 50 Employees</td>\n",
       "      <td>Founded\\n2014</td>\n",
       "      <td>Type\\nCompany - Private</td>\n",
       "      <td>Industry\\nInternet</td>\n",
       "      <td>Sector\\nInformation Technology</td>\n",
       "      <td>Revenue\\n$1 to $5 million (USD)</td>\n",
       "    </tr>\n",
       "    <tr>\n",
       "      <th>33</th>\n",
       "      <td>Senior Big Data Engineer (Python)</td>\n",
       "      <td>₹433K - ₹763K</td>\n",
       "      <td>StartUs Insights, an international data scienc...</td>\n",
       "      <td>4.6</td>\n",
       "      <td>StartUs Insights\\n4.6</td>\n",
       "      <td>Remote</td>\n",
       "      <td>Size\\n1 to 50 Employees</td>\n",
       "      <td>Founded\\n2014</td>\n",
       "      <td>Type\\nCompany - Private</td>\n",
       "      <td>Industry\\nInternet</td>\n",
       "      <td>Sector\\nInformation Technology</td>\n",
       "      <td>Revenue\\n$1 to $5 million (USD)</td>\n",
       "    </tr>\n",
       "    <tr>\n",
       "      <th>34</th>\n",
       "      <td>Data Scientist</td>\n",
       "      <td>₹433K - ₹763K</td>\n",
       "      <td>About Us:\\nMobiKwik is India's largest indepen...</td>\n",
       "      <td>3.9</td>\n",
       "      <td>MobiKwik\\n3.9</td>\n",
       "      <td>Gurgaon</td>\n",
       "      <td>Size\\n201 to 500 Employees</td>\n",
       "      <td>Founded\\n2009</td>\n",
       "      <td>Type\\nCompany - Private</td>\n",
       "      <td>Industry\\nFinancial Transaction Processing</td>\n",
       "      <td>Sector\\nFinance</td>\n",
       "      <td>Revenue\\nUnknown / Non-Applicable</td>\n",
       "    </tr>\n",
       "    <tr>\n",
       "      <th>35</th>\n",
       "      <td>Data Scientist</td>\n",
       "      <td>₹433K - ₹763K</td>\n",
       "      <td>Ahmedabad\\nBe a part of the movement to revolu...</td>\n",
       "      <td>-1.0</td>\n",
       "      <td>R3coder</td>\n",
       "      <td>Ahmedabad</td>\n",
       "      <td>Size\\nUnknown</td>\n",
       "      <td>Type\\nCompany - Private</td>\n",
       "      <td>Revenue\\nUnknown / Non-Applicable</td>\n",
       "      <td>-1</td>\n",
       "      <td>-1</td>\n",
       "      <td>-1</td>\n",
       "    </tr>\n",
       "    <tr>\n",
       "      <th>36</th>\n",
       "      <td>Data Scientist</td>\n",
       "      <td>₹433K - ₹763K</td>\n",
       "      <td>Job Description\\n\\nOffice No.13, B1, Galaxy Si...</td>\n",
       "      <td>4.2</td>\n",
       "      <td>Thomson Reuters\\n4.2</td>\n",
       "      <td>Ahmedabad</td>\n",
       "      <td>Size\\n10000+ Employees</td>\n",
       "      <td>Founded\\n2008</td>\n",
       "      <td>Type\\nCompany - Public</td>\n",
       "      <td>Industry\\nEnterprise Software &amp; Network Solutions</td>\n",
       "      <td>Sector\\nInformation Technology</td>\n",
       "      <td>Revenue\\n$5 to $10 billion (USD)</td>\n",
       "    </tr>\n",
       "  </tbody>\n",
       "</table>\n",
       "</div>"
      ],
      "text/plain": [
       "                            Job Title Salary Estimate  \\\n",
       "32        Senior Python Data Engineer  ₹433K - ₹763K    \n",
       "33  Senior Big Data Engineer (Python)  ₹433K - ₹763K    \n",
       "34                     Data Scientist  ₹433K - ₹763K    \n",
       "35                     Data Scientist  ₹433K - ₹763K    \n",
       "36                     Data Scientist  ₹433K - ₹763K    \n",
       "\n",
       "                                      Job Description  Rating  \\\n",
       "32  StartUs Insights, an international data scienc...     4.6   \n",
       "33  StartUs Insights, an international data scienc...     4.6   \n",
       "34  About Us:\\nMobiKwik is India's largest indepen...     3.9   \n",
       "35  Ahmedabad\\nBe a part of the movement to revolu...    -1.0   \n",
       "36  Job Description\\n\\nOffice No.13, B1, Galaxy Si...     4.2   \n",
       "\n",
       "             Company Name   Location                        Size  \\\n",
       "32  StartUs Insights\\n4.6     Remote     Size\\n1 to 50 Employees   \n",
       "33  StartUs Insights\\n4.6     Remote     Size\\n1 to 50 Employees   \n",
       "34          MobiKwik\\n3.9    Gurgaon  Size\\n201 to 500 Employees   \n",
       "35                R3coder  Ahmedabad               Size\\nUnknown   \n",
       "36   Thomson Reuters\\n4.2  Ahmedabad      Size\\n10000+ Employees   \n",
       "\n",
       "                    Founded                  Type of ownership  \\\n",
       "32            Founded\\n2014            Type\\nCompany - Private   \n",
       "33            Founded\\n2014            Type\\nCompany - Private   \n",
       "34            Founded\\n2009            Type\\nCompany - Private   \n",
       "35  Type\\nCompany - Private  Revenue\\nUnknown / Non-Applicable   \n",
       "36            Founded\\n2008             Type\\nCompany - Public   \n",
       "\n",
       "                                             Industry  \\\n",
       "32                                 Industry\\nInternet   \n",
       "33                                 Industry\\nInternet   \n",
       "34         Industry\\nFinancial Transaction Processing   \n",
       "35                                                 -1   \n",
       "36  Industry\\nEnterprise Software & Network Solutions   \n",
       "\n",
       "                            Sector                            Revenue  \n",
       "32  Sector\\nInformation Technology    Revenue\\n$1 to $5 million (USD)  \n",
       "33  Sector\\nInformation Technology    Revenue\\n$1 to $5 million (USD)  \n",
       "34                 Sector\\nFinance  Revenue\\nUnknown / Non-Applicable  \n",
       "35                              -1                                 -1  \n",
       "36  Sector\\nInformation Technology   Revenue\\n$5 to $10 billion (USD)  "
      ]
     },
     "execution_count": 218,
     "metadata": {},
     "output_type": "execute_result"
    }
   ],
   "source": [
    "df1['Salary Estimate'] = df1['Salary Estimate'].apply(lambda x: x.split('(')[0])\n",
    "df1.head()"
   ]
  },
  {
   "cell_type": "code",
   "execution_count": 219,
   "metadata": {},
   "outputs": [
    {
     "data": {
      "text/plain": [
       "₹433K - ₹763K       32\n",
       "₹286K - ₹759K       30\n",
       "₹522K - ₹587K       30\n",
       "₹658K - ₹946K       30\n",
       "₹996K - ₹1,048K     30\n",
       "₹510K - ₹900K       30\n",
       "₹437K - ₹997K       30\n",
       "₹583K - ₹796K       30\n",
       "₹509K - ₹786K       30\n",
       "₹460K - ₹649K       30\n",
       "₹769K - ₹920K       30\n",
       "₹335K - ₹778K       30\n",
       "₹469K - ₹732K       30\n",
       "₹527K - ₹789K       30\n",
       "₹600K - ₹856K       30\n",
       "₹523K - ₹943K       30\n",
       "₹464K - ₹1,000K     30\n",
       "₹450K - ₹900K       30\n",
       "₹834K - ₹884K       30\n",
       "₹633K - ₹808K       30\n",
       "₹307K - ₹640K       30\n",
       "₹664K - ₹747K       30\n",
       "₹532K - ₹949K       30\n",
       "₹451K - ₹643K       30\n",
       "₹464K - ₹789K       30\n",
       "₹204K - ₹607K       30\n",
       "₹653K - ₹785K       30\n",
       "₹370K - ₹665K       27\n",
       "₹499K - ₹715K       27\n",
       "Name: Salary Estimate, dtype: int64"
      ]
     },
     "execution_count": 219,
     "metadata": {},
     "output_type": "execute_result"
    }
   ],
   "source": [
    "df1['Salary Estimate'].value_counts()"
   ]
  },
  {
   "cell_type": "code",
   "execution_count": 220,
   "metadata": {
    "scrolled": true
   },
   "outputs": [
    {
     "data": {
      "text/plain": [
       "433000 - 763000      32\n",
       "834000 - 884000      30\n",
       "464000 - 1000000     30\n",
       "658000 - 946000      30\n",
       "522000 - 587000      30\n",
       "335000 - 778000      30\n",
       "451000 - 643000      30\n",
       "450000 - 900000      30\n",
       "509000 - 786000      30\n",
       "600000 - 856000      30\n",
       "633000 - 808000      30\n",
       "286000 - 759000      30\n",
       "653000 - 785000      30\n",
       "769000 - 920000      30\n",
       "523000 - 943000      30\n",
       "532000 - 949000      30\n",
       "996000 - 1048000     30\n",
       "464000 - 789000      30\n",
       "460000 - 649000      30\n",
       "469000 - 732000      30\n",
       "583000 - 796000      30\n",
       "664000 - 747000      30\n",
       "307000 - 640000      30\n",
       "510000 - 900000      30\n",
       "437000 - 997000      30\n",
       "204000 - 607000      30\n",
       "527000 - 789000      30\n",
       "370000 - 665000      27\n",
       "499000 - 715000      27\n",
       "Name: Salary Estimate, dtype: int64"
      ]
     },
     "execution_count": 220,
     "metadata": {},
     "output_type": "execute_result"
    }
   ],
   "source": [
    "df1['Salary Estimate'] = df1['Salary Estimate'].apply(lambda x: x.replace('K','000').replace('₹','').replace(',',''))\n",
    "df1['Salary Estimate'].value_counts()"
   ]
  },
  {
   "cell_type": "code",
   "execution_count": 221,
   "metadata": {},
   "outputs": [
    {
     "data": {
      "text/html": [
       "<div>\n",
       "<style scoped>\n",
       "    .dataframe tbody tr th:only-of-type {\n",
       "        vertical-align: middle;\n",
       "    }\n",
       "\n",
       "    .dataframe tbody tr th {\n",
       "        vertical-align: top;\n",
       "    }\n",
       "\n",
       "    .dataframe thead th {\n",
       "        text-align: right;\n",
       "    }\n",
       "</style>\n",
       "<table border=\"1\" class=\"dataframe\">\n",
       "  <thead>\n",
       "    <tr style=\"text-align: right;\">\n",
       "      <th></th>\n",
       "      <th>Job Title</th>\n",
       "      <th>Salary Estimate</th>\n",
       "      <th>Job Description</th>\n",
       "      <th>Rating</th>\n",
       "      <th>Company Name</th>\n",
       "      <th>Location</th>\n",
       "      <th>Size</th>\n",
       "      <th>Founded</th>\n",
       "      <th>Type of ownership</th>\n",
       "      <th>Industry</th>\n",
       "      <th>Sector</th>\n",
       "      <th>Revenue</th>\n",
       "      <th>avg_salary</th>\n",
       "    </tr>\n",
       "  </thead>\n",
       "  <tbody>\n",
       "    <tr>\n",
       "      <th>32</th>\n",
       "      <td>Senior Python Data Engineer</td>\n",
       "      <td>433000 - 763000</td>\n",
       "      <td>StartUs Insights, an international data scienc...</td>\n",
       "      <td>4.6</td>\n",
       "      <td>StartUs Insights\\n4.6</td>\n",
       "      <td>Remote</td>\n",
       "      <td>Size\\n1 to 50 Employees</td>\n",
       "      <td>Founded\\n2014</td>\n",
       "      <td>Type\\nCompany - Private</td>\n",
       "      <td>Industry\\nInternet</td>\n",
       "      <td>Sector\\nInformation Technology</td>\n",
       "      <td>Revenue\\n$1 to $5 million (USD)</td>\n",
       "      <td>598000.0</td>\n",
       "    </tr>\n",
       "    <tr>\n",
       "      <th>33</th>\n",
       "      <td>Senior Big Data Engineer (Python)</td>\n",
       "      <td>433000 - 763000</td>\n",
       "      <td>StartUs Insights, an international data scienc...</td>\n",
       "      <td>4.6</td>\n",
       "      <td>StartUs Insights\\n4.6</td>\n",
       "      <td>Remote</td>\n",
       "      <td>Size\\n1 to 50 Employees</td>\n",
       "      <td>Founded\\n2014</td>\n",
       "      <td>Type\\nCompany - Private</td>\n",
       "      <td>Industry\\nInternet</td>\n",
       "      <td>Sector\\nInformation Technology</td>\n",
       "      <td>Revenue\\n$1 to $5 million (USD)</td>\n",
       "      <td>598000.0</td>\n",
       "    </tr>\n",
       "    <tr>\n",
       "      <th>34</th>\n",
       "      <td>Data Scientist</td>\n",
       "      <td>433000 - 763000</td>\n",
       "      <td>About Us:\\nMobiKwik is India's largest indepen...</td>\n",
       "      <td>3.9</td>\n",
       "      <td>MobiKwik\\n3.9</td>\n",
       "      <td>Gurgaon</td>\n",
       "      <td>Size\\n201 to 500 Employees</td>\n",
       "      <td>Founded\\n2009</td>\n",
       "      <td>Type\\nCompany - Private</td>\n",
       "      <td>Industry\\nFinancial Transaction Processing</td>\n",
       "      <td>Sector\\nFinance</td>\n",
       "      <td>Revenue\\nUnknown / Non-Applicable</td>\n",
       "      <td>598000.0</td>\n",
       "    </tr>\n",
       "    <tr>\n",
       "      <th>35</th>\n",
       "      <td>Data Scientist</td>\n",
       "      <td>433000 - 763000</td>\n",
       "      <td>Ahmedabad\\nBe a part of the movement to revolu...</td>\n",
       "      <td>-1.0</td>\n",
       "      <td>R3coder</td>\n",
       "      <td>Ahmedabad</td>\n",
       "      <td>Size\\nUnknown</td>\n",
       "      <td>Type\\nCompany - Private</td>\n",
       "      <td>Revenue\\nUnknown / Non-Applicable</td>\n",
       "      <td>-1</td>\n",
       "      <td>-1</td>\n",
       "      <td>-1</td>\n",
       "      <td>598000.0</td>\n",
       "    </tr>\n",
       "    <tr>\n",
       "      <th>36</th>\n",
       "      <td>Data Scientist</td>\n",
       "      <td>433000 - 763000</td>\n",
       "      <td>Job Description\\n\\nOffice No.13, B1, Galaxy Si...</td>\n",
       "      <td>4.2</td>\n",
       "      <td>Thomson Reuters\\n4.2</td>\n",
       "      <td>Ahmedabad</td>\n",
       "      <td>Size\\n10000+ Employees</td>\n",
       "      <td>Founded\\n2008</td>\n",
       "      <td>Type\\nCompany - Public</td>\n",
       "      <td>Industry\\nEnterprise Software &amp; Network Solutions</td>\n",
       "      <td>Sector\\nInformation Technology</td>\n",
       "      <td>Revenue\\n$5 to $10 billion (USD)</td>\n",
       "      <td>598000.0</td>\n",
       "    </tr>\n",
       "  </tbody>\n",
       "</table>\n",
       "</div>"
      ],
      "text/plain": [
       "                            Job Title   Salary Estimate  \\\n",
       "32        Senior Python Data Engineer  433000 - 763000    \n",
       "33  Senior Big Data Engineer (Python)  433000 - 763000    \n",
       "34                     Data Scientist  433000 - 763000    \n",
       "35                     Data Scientist  433000 - 763000    \n",
       "36                     Data Scientist  433000 - 763000    \n",
       "\n",
       "                                      Job Description  Rating  \\\n",
       "32  StartUs Insights, an international data scienc...     4.6   \n",
       "33  StartUs Insights, an international data scienc...     4.6   \n",
       "34  About Us:\\nMobiKwik is India's largest indepen...     3.9   \n",
       "35  Ahmedabad\\nBe a part of the movement to revolu...    -1.0   \n",
       "36  Job Description\\n\\nOffice No.13, B1, Galaxy Si...     4.2   \n",
       "\n",
       "             Company Name   Location                        Size  \\\n",
       "32  StartUs Insights\\n4.6     Remote     Size\\n1 to 50 Employees   \n",
       "33  StartUs Insights\\n4.6     Remote     Size\\n1 to 50 Employees   \n",
       "34          MobiKwik\\n3.9    Gurgaon  Size\\n201 to 500 Employees   \n",
       "35                R3coder  Ahmedabad               Size\\nUnknown   \n",
       "36   Thomson Reuters\\n4.2  Ahmedabad      Size\\n10000+ Employees   \n",
       "\n",
       "                    Founded                  Type of ownership  \\\n",
       "32            Founded\\n2014            Type\\nCompany - Private   \n",
       "33            Founded\\n2014            Type\\nCompany - Private   \n",
       "34            Founded\\n2009            Type\\nCompany - Private   \n",
       "35  Type\\nCompany - Private  Revenue\\nUnknown / Non-Applicable   \n",
       "36            Founded\\n2008             Type\\nCompany - Public   \n",
       "\n",
       "                                             Industry  \\\n",
       "32                                 Industry\\nInternet   \n",
       "33                                 Industry\\nInternet   \n",
       "34         Industry\\nFinancial Transaction Processing   \n",
       "35                                                 -1   \n",
       "36  Industry\\nEnterprise Software & Network Solutions   \n",
       "\n",
       "                            Sector                            Revenue  \\\n",
       "32  Sector\\nInformation Technology    Revenue\\n$1 to $5 million (USD)   \n",
       "33  Sector\\nInformation Technology    Revenue\\n$1 to $5 million (USD)   \n",
       "34                 Sector\\nFinance  Revenue\\nUnknown / Non-Applicable   \n",
       "35                              -1                                 -1   \n",
       "36  Sector\\nInformation Technology   Revenue\\n$5 to $10 billion (USD)   \n",
       "\n",
       "    avg_salary  \n",
       "32    598000.0  \n",
       "33    598000.0  \n",
       "34    598000.0  \n",
       "35    598000.0  \n",
       "36    598000.0  "
      ]
     },
     "execution_count": 221,
     "metadata": {},
     "output_type": "execute_result"
    }
   ],
   "source": [
    "min_sal = df1['Salary Estimate'].apply(lambda x: int(x.split('-')[0]))\n",
    "max_sal = df1['Salary Estimate'].apply(lambda x: int(x.split('-')[1]))\n",
    "\n",
    "df1['avg_salary'] = (min_sal+max_sal)/2\n",
    "df1.head()"
   ]
  },
  {
   "cell_type": "code",
   "execution_count": 222,
   "metadata": {},
   "outputs": [
    {
     "data": {
      "text/plain": [
       "32             StartUs Insights\\n4.6\n",
       "33             StartUs Insights\\n4.6\n",
       "34                     MobiKwik\\n3.9\n",
       "35                           R3coder\n",
       "36              Thomson Reuters\\n4.2\n",
       "                   ...              \n",
       "895                   sharechat\\n4.3\n",
       "896    TalentNex Consulting Pte Ltd.\n",
       "897              Merkle Sokrati\\n3.9\n",
       "898             Symphony Talent\\n3.6\n",
       "899                              NCG\n",
       "Name: Company Name, Length: 866, dtype: object"
      ]
     },
     "execution_count": 222,
     "metadata": {},
     "output_type": "execute_result"
    }
   ],
   "source": [
    "df1['Company Name']"
   ]
  },
  {
   "cell_type": "code",
   "execution_count": 223,
   "metadata": {},
   "outputs": [
    {
     "data": {
      "text/plain": [
       "32    StartUs Insights\n",
       "33    StartUs Insights\n",
       "34            MobiKwik\n",
       "35             R3coder\n",
       "36     Thomson Reuters\n",
       "Name: Company Name, dtype: object"
      ]
     },
     "execution_count": 223,
     "metadata": {},
     "output_type": "execute_result"
    }
   ],
   "source": [
    "df1['Company Name'] = df1.apply(lambda x: x['Company Name'][:-4] if x['Rating'] > 0 else x['Company Name'], axis = 1)\n",
    "df1['Company Name'].head()"
   ]
  },
  {
   "cell_type": "code",
   "execution_count": 224,
   "metadata": {},
   "outputs": [
    {
     "data": {
      "text/plain": [
       "Bangalore             359\n",
       "Pune                   76\n",
       "Hyderābād              75\n",
       "Mumbai                 68\n",
       "Gurgaon                47\n",
       "Chennai                43\n",
       "Noida                  36\n",
       "New Delhi              22\n",
       "India                  21\n",
       "Remote                 20\n",
       "Calcutta               13\n",
       "Maharashtra            11\n",
       "Cochin                  9\n",
       "Ahmedabad               7\n",
       "Vadodara                7\n",
       "SAS Nagar               5\n",
       "Chandigarh              4\n",
       "Coimbatore              4\n",
       "Mysore                  4\n",
       "Thiruvananthapuram      4\n",
       "Eranakulam              3\n",
       "Karnataka               3\n",
       "Vijayawāda              3\n",
       "Tiruchchirāppalli       2\n",
       "Uttar Pradesh           2\n",
       "Visakhapatnam           2\n",
       "Indore                  2\n",
       "Navi Mumbai             2\n",
       "Jamshedpur              2\n",
       "Telangana               1\n",
       "Āgra                    1\n",
       "Guwahati                1\n",
       "Salem                   1\n",
       "Andhra Pradesh          1\n",
       "Nāgpur                  1\n",
       "Calicut                 1\n",
       "Guntūr                  1\n",
       "Kālkāji Devi            1\n",
       "Bhopal                  1\n",
       "Name: Location, dtype: int64"
      ]
     },
     "execution_count": 224,
     "metadata": {},
     "output_type": "execute_result"
    }
   ],
   "source": [
    "df1['Location'].value_counts()"
   ]
  },
  {
   "cell_type": "code",
   "execution_count": 225,
   "metadata": {},
   "outputs": [
    {
     "data": {
      "text/plain": [
       "32               Founded\\n2014\n",
       "33               Founded\\n2014\n",
       "34               Founded\\n2009\n",
       "35     Type\\nCompany - Private\n",
       "36               Founded\\n2008\n",
       "                ...           \n",
       "895    Type\\nCompany - Private\n",
       "896    Type\\nCompany - Private\n",
       "897              Founded\\n2009\n",
       "898    Type\\nCompany - Private\n",
       "899              Founded\\n2010\n",
       "Name: Founded, Length: 866, dtype: object"
      ]
     },
     "execution_count": 225,
     "metadata": {},
     "output_type": "execute_result"
    }
   ],
   "source": [
    "df1['Founded']"
   ]
  },
  {
   "cell_type": "code",
   "execution_count": 226,
   "metadata": {},
   "outputs": [],
   "source": [
    "new = []\n",
    "for x in df1['Founded']:\n",
    "    try:\n",
    "        x = int(x[-4:])\n",
    "        new.append(x)\n",
    "    except:\n",
    "        x = -1\n",
    "        new.append(x)\n",
    "    \n",
    "df1['Founded'] = new"
   ]
  },
  {
   "cell_type": "code",
   "execution_count": 256,
   "metadata": {},
   "outputs": [
    {
     "data": {
      "text/plain": [
       "-1       265\n",
       " 1994     25\n",
       " 2015     24\n",
       " 1998     24\n",
       " 2014     22\n",
       "        ... \n",
       " 1943      1\n",
       " 1670      1\n",
       " 1956      1\n",
       " 1962      1\n",
       " 2021      1\n",
       "Name: Founded, Length: 115, dtype: int64"
      ]
     },
     "execution_count": 256,
     "metadata": {},
     "output_type": "execute_result"
    }
   ],
   "source": [
    "df1['Founded'].value_counts()"
   ]
  },
  {
   "cell_type": "code",
   "execution_count": 228,
   "metadata": {},
   "outputs": [
    {
     "data": {
      "text/html": [
       "<div>\n",
       "<style scoped>\n",
       "    .dataframe tbody tr th:only-of-type {\n",
       "        vertical-align: middle;\n",
       "    }\n",
       "\n",
       "    .dataframe tbody tr th {\n",
       "        vertical-align: top;\n",
       "    }\n",
       "\n",
       "    .dataframe thead th {\n",
       "        text-align: right;\n",
       "    }\n",
       "</style>\n",
       "<table border=\"1\" class=\"dataframe\">\n",
       "  <thead>\n",
       "    <tr style=\"text-align: right;\">\n",
       "      <th></th>\n",
       "      <th>Job Title</th>\n",
       "      <th>Salary Estimate</th>\n",
       "      <th>Job Description</th>\n",
       "      <th>Rating</th>\n",
       "      <th>Company Name</th>\n",
       "      <th>Location</th>\n",
       "      <th>Size</th>\n",
       "      <th>Founded</th>\n",
       "      <th>Type of ownership</th>\n",
       "      <th>Industry</th>\n",
       "      <th>Sector</th>\n",
       "      <th>Revenue</th>\n",
       "      <th>avg_salary</th>\n",
       "    </tr>\n",
       "  </thead>\n",
       "  <tbody>\n",
       "    <tr>\n",
       "      <th>0</th>\n",
       "      <td>Senior Python Data Engineer</td>\n",
       "      <td>433000 - 763000</td>\n",
       "      <td>StartUs Insights, an international data scienc...</td>\n",
       "      <td>4.6</td>\n",
       "      <td>StartUs Insights</td>\n",
       "      <td>Remote</td>\n",
       "      <td>Size\\n1 to 50 Employees</td>\n",
       "      <td>2014</td>\n",
       "      <td>Type\\nCompany - Private</td>\n",
       "      <td>Industry\\nInternet</td>\n",
       "      <td>Sector\\nInformation Technology</td>\n",
       "      <td>Revenue\\n$1 to $5 million (USD)</td>\n",
       "      <td>598000.0</td>\n",
       "    </tr>\n",
       "    <tr>\n",
       "      <th>1</th>\n",
       "      <td>Senior Big Data Engineer (Python)</td>\n",
       "      <td>433000 - 763000</td>\n",
       "      <td>StartUs Insights, an international data scienc...</td>\n",
       "      <td>4.6</td>\n",
       "      <td>StartUs Insights</td>\n",
       "      <td>Remote</td>\n",
       "      <td>Size\\n1 to 50 Employees</td>\n",
       "      <td>2014</td>\n",
       "      <td>Type\\nCompany - Private</td>\n",
       "      <td>Industry\\nInternet</td>\n",
       "      <td>Sector\\nInformation Technology</td>\n",
       "      <td>Revenue\\n$1 to $5 million (USD)</td>\n",
       "      <td>598000.0</td>\n",
       "    </tr>\n",
       "    <tr>\n",
       "      <th>2</th>\n",
       "      <td>Data Scientist</td>\n",
       "      <td>433000 - 763000</td>\n",
       "      <td>About Us:\\nMobiKwik is India's largest indepen...</td>\n",
       "      <td>3.9</td>\n",
       "      <td>MobiKwik</td>\n",
       "      <td>Gurgaon</td>\n",
       "      <td>Size\\n201 to 500 Employees</td>\n",
       "      <td>2009</td>\n",
       "      <td>Type\\nCompany - Private</td>\n",
       "      <td>Industry\\nFinancial Transaction Processing</td>\n",
       "      <td>Sector\\nFinance</td>\n",
       "      <td>Revenue\\nUnknown / Non-Applicable</td>\n",
       "      <td>598000.0</td>\n",
       "    </tr>\n",
       "    <tr>\n",
       "      <th>3</th>\n",
       "      <td>Data Scientist</td>\n",
       "      <td>433000 - 763000</td>\n",
       "      <td>Ahmedabad\\nBe a part of the movement to revolu...</td>\n",
       "      <td>-1.0</td>\n",
       "      <td>R3coder</td>\n",
       "      <td>Ahmedabad</td>\n",
       "      <td>Size\\nUnknown</td>\n",
       "      <td>-1</td>\n",
       "      <td>Revenue\\nUnknown / Non-Applicable</td>\n",
       "      <td>-1</td>\n",
       "      <td>-1</td>\n",
       "      <td>-1</td>\n",
       "      <td>598000.0</td>\n",
       "    </tr>\n",
       "    <tr>\n",
       "      <th>4</th>\n",
       "      <td>Data Scientist</td>\n",
       "      <td>433000 - 763000</td>\n",
       "      <td>Job Description\\n\\nOffice No.13, B1, Galaxy Si...</td>\n",
       "      <td>4.2</td>\n",
       "      <td>Thomson Reuters</td>\n",
       "      <td>Ahmedabad</td>\n",
       "      <td>Size\\n10000+ Employees</td>\n",
       "      <td>2008</td>\n",
       "      <td>Type\\nCompany - Public</td>\n",
       "      <td>Industry\\nEnterprise Software &amp; Network Solutions</td>\n",
       "      <td>Sector\\nInformation Technology</td>\n",
       "      <td>Revenue\\n$5 to $10 billion (USD)</td>\n",
       "      <td>598000.0</td>\n",
       "    </tr>\n",
       "  </tbody>\n",
       "</table>\n",
       "</div>"
      ],
      "text/plain": [
       "                           Job Title   Salary Estimate  \\\n",
       "0        Senior Python Data Engineer  433000 - 763000    \n",
       "1  Senior Big Data Engineer (Python)  433000 - 763000    \n",
       "2                     Data Scientist  433000 - 763000    \n",
       "3                     Data Scientist  433000 - 763000    \n",
       "4                     Data Scientist  433000 - 763000    \n",
       "\n",
       "                                     Job Description  Rating  \\\n",
       "0  StartUs Insights, an international data scienc...     4.6   \n",
       "1  StartUs Insights, an international data scienc...     4.6   \n",
       "2  About Us:\\nMobiKwik is India's largest indepen...     3.9   \n",
       "3  Ahmedabad\\nBe a part of the movement to revolu...    -1.0   \n",
       "4  Job Description\\n\\nOffice No.13, B1, Galaxy Si...     4.2   \n",
       "\n",
       "       Company Name   Location                        Size  Founded  \\\n",
       "0  StartUs Insights     Remote     Size\\n1 to 50 Employees     2014   \n",
       "1  StartUs Insights     Remote     Size\\n1 to 50 Employees     2014   \n",
       "2          MobiKwik    Gurgaon  Size\\n201 to 500 Employees     2009   \n",
       "3           R3coder  Ahmedabad               Size\\nUnknown       -1   \n",
       "4   Thomson Reuters  Ahmedabad      Size\\n10000+ Employees     2008   \n",
       "\n",
       "                   Type of ownership  \\\n",
       "0            Type\\nCompany - Private   \n",
       "1            Type\\nCompany - Private   \n",
       "2            Type\\nCompany - Private   \n",
       "3  Revenue\\nUnknown / Non-Applicable   \n",
       "4             Type\\nCompany - Public   \n",
       "\n",
       "                                            Industry  \\\n",
       "0                                 Industry\\nInternet   \n",
       "1                                 Industry\\nInternet   \n",
       "2         Industry\\nFinancial Transaction Processing   \n",
       "3                                                 -1   \n",
       "4  Industry\\nEnterprise Software & Network Solutions   \n",
       "\n",
       "                           Sector                            Revenue  \\\n",
       "0  Sector\\nInformation Technology    Revenue\\n$1 to $5 million (USD)   \n",
       "1  Sector\\nInformation Technology    Revenue\\n$1 to $5 million (USD)   \n",
       "2                 Sector\\nFinance  Revenue\\nUnknown / Non-Applicable   \n",
       "3                              -1                                 -1   \n",
       "4  Sector\\nInformation Technology   Revenue\\n$5 to $10 billion (USD)   \n",
       "\n",
       "   avg_salary  \n",
       "0    598000.0  \n",
       "1    598000.0  \n",
       "2    598000.0  \n",
       "3    598000.0  \n",
       "4    598000.0  "
      ]
     },
     "execution_count": 228,
     "metadata": {},
     "output_type": "execute_result"
    }
   ],
   "source": [
    "df1 = df1.reset_index(drop = True)\n",
    "df1.head()"
   ]
  },
  {
   "cell_type": "code",
   "execution_count": 229,
   "metadata": {},
   "outputs": [
    {
     "data": {
      "text/plain": [
       "\"StartUs Insights, an international data science company mapping the world's information on startups, scaleups and their technologies.\\nWe operate a proprietary DAG stateful-stream-processing information retrieval system (think of a search engine). We run container-based with distributed and scalable agents.\\nOur Stack is Python, Kafka, Scrapy, PostgreSQL, Elastic Search, Docker.\\nIF YOU ARE:\\nPassionate about working on the world's largest startup search engine and use your talent planning, building and operating critical information systems that convert raw data to knowledge - then you are at the right place!\""
      ]
     },
     "execution_count": 229,
     "metadata": {},
     "output_type": "execute_result"
    }
   ],
   "source": [
    "df1['Job Description'][0]"
   ]
  },
  {
   "cell_type": "code",
   "execution_count": 230,
   "metadata": {},
   "outputs": [
    {
     "data": {
      "text/plain": [
       "0    683\n",
       "1    183\n",
       "Name: python_req, dtype: int64"
      ]
     },
     "execution_count": 230,
     "metadata": {},
     "output_type": "execute_result"
    }
   ],
   "source": [
    "df1['python_req'] = df1['Job Description'].apply(lambda x: 1 if 'python' in x.lower() else 0)\n",
    "df1['python_req'].value_counts()"
   ]
  },
  {
   "cell_type": "code",
   "execution_count": 231,
   "metadata": {},
   "outputs": [
    {
     "data": {
      "text/plain": [
       "0    729\n",
       "1    137\n",
       "Name: sql_req, dtype: int64"
      ]
     },
     "execution_count": 231,
     "metadata": {},
     "output_type": "execute_result"
    }
   ],
   "source": [
    "df1['sql_req'] = df1['Job Description'].apply(lambda x: 1 if 'sql' in x.lower() else 0)\n",
    "df1['sql_req'].value_counts()"
   ]
  },
  {
   "cell_type": "code",
   "execution_count": 232,
   "metadata": {},
   "outputs": [
    {
     "data": {
      "text/plain": [
       "0    818\n",
       "1     48\n",
       "Name: Tensorflow_req, dtype: int64"
      ]
     },
     "execution_count": 232,
     "metadata": {},
     "output_type": "execute_result"
    }
   ],
   "source": [
    "df1['Tensorflow_req'] = df1['Job Description'].apply(lambda x: 1 if 'tensorflow' in x.lower() or 'tensor-flow' in x.lower() else 0)\n",
    "df1['Tensorflow_req'].value_counts()"
   ]
  },
  {
   "cell_type": "code",
   "execution_count": 233,
   "metadata": {},
   "outputs": [
    {
     "data": {
      "text/plain": [
       "0    766\n",
       "1    100\n",
       "Name: excel_req, dtype: int64"
      ]
     },
     "execution_count": 233,
     "metadata": {},
     "output_type": "execute_result"
    }
   ],
   "source": [
    "df1['excel_req'] = df1['Job Description'].apply(lambda x: 1 if 'excel' in x.lower() else 0)\n",
    "df1['excel_req'].value_counts()"
   ]
  },
  {
   "cell_type": "code",
   "execution_count": 234,
   "metadata": {},
   "outputs": [
    {
     "data": {
      "text/plain": [
       "0    750\n",
       "1    116\n",
       "Name: cloud_req, dtype: int64"
      ]
     },
     "execution_count": 234,
     "metadata": {},
     "output_type": "execute_result"
    }
   ],
   "source": [
    "df1['cloud_req'] = df1['Job Description'].apply(lambda x: 1 if 'cloud' in x.lower() else 0)\n",
    "df1['cloud_req'].value_counts()"
   ]
  },
  {
   "cell_type": "code",
   "execution_count": 235,
   "metadata": {},
   "outputs": [
    {
     "data": {
      "text/plain": [
       "0          1 to 50\n",
       "1          1 to 50\n",
       "2       201 to 500\n",
       "3                 \n",
       "4            10000\n",
       "          ...     \n",
       "861        1 to 50\n",
       "862        1 to 50\n",
       "863    501 to 1000\n",
       "864     201 to 500\n",
       "865        1 to 50\n",
       "Name: Size, Length: 866, dtype: object"
      ]
     },
     "execution_count": 235,
     "metadata": {},
     "output_type": "execute_result"
    }
   ],
   "source": [
    "df1['Size'] = df1['Size'].apply(lambda x: x[5:-10].replace('+',''))\n",
    "df1['Size']"
   ]
  },
  {
   "cell_type": "code",
   "execution_count": 237,
   "metadata": {},
   "outputs": [
    {
     "data": {
      "text/html": [
       "<div>\n",
       "<style scoped>\n",
       "    .dataframe tbody tr th:only-of-type {\n",
       "        vertical-align: middle;\n",
       "    }\n",
       "\n",
       "    .dataframe tbody tr th {\n",
       "        vertical-align: top;\n",
       "    }\n",
       "\n",
       "    .dataframe thead th {\n",
       "        text-align: right;\n",
       "    }\n",
       "</style>\n",
       "<table border=\"1\" class=\"dataframe\">\n",
       "  <thead>\n",
       "    <tr style=\"text-align: right;\">\n",
       "      <th></th>\n",
       "      <th>Job Title</th>\n",
       "      <th>Salary Estimate</th>\n",
       "      <th>Job Description</th>\n",
       "      <th>Rating</th>\n",
       "      <th>Company Name</th>\n",
       "      <th>Location</th>\n",
       "      <th>Size</th>\n",
       "      <th>Founded</th>\n",
       "      <th>Type of ownership</th>\n",
       "      <th>Industry</th>\n",
       "      <th>Sector</th>\n",
       "      <th>Revenue</th>\n",
       "      <th>avg_salary</th>\n",
       "      <th>python_req</th>\n",
       "      <th>sql_req</th>\n",
       "      <th>Tensorflow_req</th>\n",
       "      <th>excel_req</th>\n",
       "      <th>cloud_req</th>\n",
       "      <th>total emp</th>\n",
       "    </tr>\n",
       "  </thead>\n",
       "  <tbody>\n",
       "    <tr>\n",
       "      <th>0</th>\n",
       "      <td>Senior Python Data Engineer</td>\n",
       "      <td>433000 - 763000</td>\n",
       "      <td>StartUs Insights, an international data scienc...</td>\n",
       "      <td>4.6</td>\n",
       "      <td>StartUs Insights</td>\n",
       "      <td>Remote</td>\n",
       "      <td>1 to 50</td>\n",
       "      <td>2014</td>\n",
       "      <td>Type\\nCompany - Private</td>\n",
       "      <td>Industry\\nInternet</td>\n",
       "      <td>Sector\\nInformation Technology</td>\n",
       "      <td>Revenue\\n$1 to $5 million (USD)</td>\n",
       "      <td>598000.0</td>\n",
       "      <td>1</td>\n",
       "      <td>1</td>\n",
       "      <td>0</td>\n",
       "      <td>0</td>\n",
       "      <td>0</td>\n",
       "      <td>50</td>\n",
       "    </tr>\n",
       "    <tr>\n",
       "      <th>1</th>\n",
       "      <td>Senior Big Data Engineer (Python)</td>\n",
       "      <td>433000 - 763000</td>\n",
       "      <td>StartUs Insights, an international data scienc...</td>\n",
       "      <td>4.6</td>\n",
       "      <td>StartUs Insights</td>\n",
       "      <td>Remote</td>\n",
       "      <td>1 to 50</td>\n",
       "      <td>2014</td>\n",
       "      <td>Type\\nCompany - Private</td>\n",
       "      <td>Industry\\nInternet</td>\n",
       "      <td>Sector\\nInformation Technology</td>\n",
       "      <td>Revenue\\n$1 to $5 million (USD)</td>\n",
       "      <td>598000.0</td>\n",
       "      <td>1</td>\n",
       "      <td>1</td>\n",
       "      <td>0</td>\n",
       "      <td>0</td>\n",
       "      <td>0</td>\n",
       "      <td>50</td>\n",
       "    </tr>\n",
       "    <tr>\n",
       "      <th>2</th>\n",
       "      <td>Data Scientist</td>\n",
       "      <td>433000 - 763000</td>\n",
       "      <td>About Us:\\nMobiKwik is India's largest indepen...</td>\n",
       "      <td>3.9</td>\n",
       "      <td>MobiKwik</td>\n",
       "      <td>Gurgaon</td>\n",
       "      <td>201 to 500</td>\n",
       "      <td>2009</td>\n",
       "      <td>Type\\nCompany - Private</td>\n",
       "      <td>Industry\\nFinancial Transaction Processing</td>\n",
       "      <td>Sector\\nFinance</td>\n",
       "      <td>Revenue\\nUnknown / Non-Applicable</td>\n",
       "      <td>598000.0</td>\n",
       "      <td>0</td>\n",
       "      <td>0</td>\n",
       "      <td>0</td>\n",
       "      <td>0</td>\n",
       "      <td>0</td>\n",
       "      <td>500</td>\n",
       "    </tr>\n",
       "    <tr>\n",
       "      <th>3</th>\n",
       "      <td>Data Scientist</td>\n",
       "      <td>433000 - 763000</td>\n",
       "      <td>Ahmedabad\\nBe a part of the movement to revolu...</td>\n",
       "      <td>-1.0</td>\n",
       "      <td>R3coder</td>\n",
       "      <td>Ahmedabad</td>\n",
       "      <td></td>\n",
       "      <td>-1</td>\n",
       "      <td>Revenue\\nUnknown / Non-Applicable</td>\n",
       "      <td>-1</td>\n",
       "      <td>-1</td>\n",
       "      <td>-1</td>\n",
       "      <td>598000.0</td>\n",
       "      <td>0</td>\n",
       "      <td>0</td>\n",
       "      <td>0</td>\n",
       "      <td>0</td>\n",
       "      <td>0</td>\n",
       "      <td>-1</td>\n",
       "    </tr>\n",
       "    <tr>\n",
       "      <th>4</th>\n",
       "      <td>Data Scientist</td>\n",
       "      <td>433000 - 763000</td>\n",
       "      <td>Job Description\\n\\nOffice No.13, B1, Galaxy Si...</td>\n",
       "      <td>4.2</td>\n",
       "      <td>Thomson Reuters</td>\n",
       "      <td>Ahmedabad</td>\n",
       "      <td>10000</td>\n",
       "      <td>2008</td>\n",
       "      <td>Type\\nCompany - Public</td>\n",
       "      <td>Industry\\nEnterprise Software &amp; Network Solutions</td>\n",
       "      <td>Sector\\nInformation Technology</td>\n",
       "      <td>Revenue\\n$5 to $10 billion (USD)</td>\n",
       "      <td>598000.0</td>\n",
       "      <td>1</td>\n",
       "      <td>0</td>\n",
       "      <td>1</td>\n",
       "      <td>1</td>\n",
       "      <td>1</td>\n",
       "      <td>10000</td>\n",
       "    </tr>\n",
       "  </tbody>\n",
       "</table>\n",
       "</div>"
      ],
      "text/plain": [
       "                           Job Title   Salary Estimate  \\\n",
       "0        Senior Python Data Engineer  433000 - 763000    \n",
       "1  Senior Big Data Engineer (Python)  433000 - 763000    \n",
       "2                     Data Scientist  433000 - 763000    \n",
       "3                     Data Scientist  433000 - 763000    \n",
       "4                     Data Scientist  433000 - 763000    \n",
       "\n",
       "                                     Job Description  Rating  \\\n",
       "0  StartUs Insights, an international data scienc...     4.6   \n",
       "1  StartUs Insights, an international data scienc...     4.6   \n",
       "2  About Us:\\nMobiKwik is India's largest indepen...     3.9   \n",
       "3  Ahmedabad\\nBe a part of the movement to revolu...    -1.0   \n",
       "4  Job Description\\n\\nOffice No.13, B1, Galaxy Si...     4.2   \n",
       "\n",
       "       Company Name   Location        Size  Founded  \\\n",
       "0  StartUs Insights     Remote     1 to 50     2014   \n",
       "1  StartUs Insights     Remote     1 to 50     2014   \n",
       "2          MobiKwik    Gurgaon  201 to 500     2009   \n",
       "3           R3coder  Ahmedabad                   -1   \n",
       "4   Thomson Reuters  Ahmedabad       10000     2008   \n",
       "\n",
       "                   Type of ownership  \\\n",
       "0            Type\\nCompany - Private   \n",
       "1            Type\\nCompany - Private   \n",
       "2            Type\\nCompany - Private   \n",
       "3  Revenue\\nUnknown / Non-Applicable   \n",
       "4             Type\\nCompany - Public   \n",
       "\n",
       "                                            Industry  \\\n",
       "0                                 Industry\\nInternet   \n",
       "1                                 Industry\\nInternet   \n",
       "2         Industry\\nFinancial Transaction Processing   \n",
       "3                                                 -1   \n",
       "4  Industry\\nEnterprise Software & Network Solutions   \n",
       "\n",
       "                           Sector                            Revenue  \\\n",
       "0  Sector\\nInformation Technology    Revenue\\n$1 to $5 million (USD)   \n",
       "1  Sector\\nInformation Technology    Revenue\\n$1 to $5 million (USD)   \n",
       "2                 Sector\\nFinance  Revenue\\nUnknown / Non-Applicable   \n",
       "3                              -1                                 -1   \n",
       "4  Sector\\nInformation Technology   Revenue\\n$5 to $10 billion (USD)   \n",
       "\n",
       "   avg_salary  python_req  sql_req  Tensorflow_req  excel_req  cloud_req  \\\n",
       "0    598000.0           1        1               0          0          0   \n",
       "1    598000.0           1        1               0          0          0   \n",
       "2    598000.0           0        0               0          0          0   \n",
       "3    598000.0           0        0               0          0          0   \n",
       "4    598000.0           1        0               1          1          1   \n",
       "\n",
       "   total emp  \n",
       "0         50  \n",
       "1         50  \n",
       "2        500  \n",
       "3         -1  \n",
       "4      10000  "
      ]
     },
     "execution_count": 237,
     "metadata": {},
     "output_type": "execute_result"
    }
   ],
   "source": [
    "min_ep = df1['Size'].apply(lambda x: int(x.split('to')[0]) if 'to' in x else 0)\n",
    "max_ep = df1['Size'].apply(lambda x: int(x.split('to')[1]) if 'to' in x else (int(x) if len(x)!= 0  else -1))\n",
    "\n",
    "df1['total emp'] = max_ep\n",
    "df1.head()"
   ]
  },
  {
   "cell_type": "code",
   "execution_count": 283,
   "metadata": {},
   "outputs": [
    {
     "data": {
      "text/plain": [
       "-1                                         209\n",
       "IT Service                                 115\n",
       "Computer Hardware & Software                79\n",
       "Internet                                    68\n",
       "Enterprise Software & Network Solutions     56\n",
       "                                          ... \n",
       "Construction                                 1\n",
       "Security Service                             1\n",
       "Fast-Food & Quick-Service Restaurant         1\n",
       "Airline                                      1\n",
       "Oil & Gas Exploration & Production           1\n",
       "Name: Industry, Length: 67, dtype: int64"
      ]
     },
     "execution_count": 283,
     "metadata": {},
     "output_type": "execute_result"
    }
   ],
   "source": [
    "df1['Industry'] = df1['Industry'].apply(lambda x: x[x.replace('\\n','-').find('-')  +1 : ] if '\\n' in x else x) \n",
    "df1['Industry'].value_counts()"
   ]
  },
  {
   "cell_type": "code",
   "execution_count": 307,
   "metadata": {},
   "outputs": [
    {
     "data": {
      "text/plain": [
       "Information Technology              317\n",
       "-1                                  292\n",
       "Business Service                    105\n",
       "Unknown / Non-Applicable             32\n",
       "Manufacturing                        31\n",
       "Biotech & Pharmaceutical             21\n",
       "Healthcare                           13\n",
       "Retail                               11\n",
       "Transportation & Logistics           11\n",
       "Oil, Gas, Energy & Utility            5\n",
       "Media                                 5\n",
       "Telecommunication                     4\n",
       "Aerospace & Defence                   4\n",
       "Agriculture & Forestry                3\n",
       "Education                             3\n",
       "Travel & Tourism                      2\n",
       "Accounting & Legal                    2\n",
       "Arts, Entertainment & Recreation      2\n",
       "Non-Profit                            1\n",
       "Consumer Service                      1\n",
       "Restaurants, Bars & Food Service      1\n",
       "Name: Sector, dtype: int64"
      ]
     },
     "execution_count": 307,
     "metadata": {},
     "output_type": "execute_result"
    }
   ],
   "source": [
    "df1['Sector']= df1['Sector'].astype('str')\n",
    "df1['Sector'] = df1['Sector'].apply(lambda x: x[x.replace('\\n','-').find('-')  +1 : ] if '\\n' in x else x)\n",
    "df1['Sector'] = df1['Sector'].apply(lambda x: str(-1) if '$' in x or 'nan' in x else x)\n",
    "df1['Sector'].value_counts()"
   ]
  },
  {
   "cell_type": "code",
   "execution_count": 301,
   "metadata": {},
   "outputs": [
    {
     "data": {
      "text/plain": [
       "-1                                  274\n",
       "Unknown / Non-Applicable            172\n",
       "$10+ billion (USD)                  167\n",
       "$2 to $5 billion (USD)               50\n",
       "$100 to $500 million (USD)           50\n",
       "$1 to $2 billion (USD)               25\n",
       "$10 to $25 million (USD)             24\n",
       "$5 to $10 billion (USD)              22\n",
       "$500 million to $1 billion (USD)     19\n",
       "$1 to $5 million (USD)               17\n",
       "$5 to $10 million (USD)              15\n",
       "$25 to $50 million (USD)             12\n",
       "$50 to $100 million (USD)            10\n",
       "Less than $1 million (USD)            9\n",
       "Name: Revenue, dtype: int64"
      ]
     },
     "execution_count": 301,
     "metadata": {},
     "output_type": "execute_result"
    }
   ],
   "source": [
    "df1['Revenue']= df1['Revenue'].astype('str')\n",
    "df1['Revenue'] = df1['Revenue'].apply(lambda x: x[x.replace('\\n','-').find('-')  +1 : ] if '\\n' in x else x)\n",
    "df1['Revenue'] = df1['Revenue'].apply(lambda x: str(-1) if 'nan' in x else x)\n",
    "df1['Revenue'].value_counts()"
   ]
  },
  {
   "cell_type": "code",
   "execution_count": 304,
   "metadata": {},
   "outputs": [
    {
     "data": {
      "text/plain": [
       "Company - Private                 296\n",
       "Company - Public                  273\n",
       "-1                                271\n",
       "Subsidiary or Business Segment     22\n",
       "Unknown                             4\n",
       "Name: Type of ownership, dtype: int64"
      ]
     },
     "execution_count": 304,
     "metadata": {},
     "output_type": "execute_result"
    }
   ],
   "source": [
    "part = ['Company - Private','Company - Public','Nonprofit Organization','Subsidiary or Business Segment','Government','Hospital','College / University','Other Organization','School / School District','Unknown']\n",
    "df1['Type of ownership']= df1['Type of ownership'].astype('str')\n",
    "df1['Type of ownership'] = df1['Type of ownership'].apply(lambda x: x[x.replace('\\n','-').find('-')  +1 : ] if '\\n' in x else x)\n",
    "df1['Type of ownership'] = df1['Type of ownership'].apply(lambda x: x if x in part else str(-1))\n",
    "df1['Type of ownership'].value_counts()"
   ]
  },
  {
   "cell_type": "code",
   "execution_count": 308,
   "metadata": {},
   "outputs": [
    {
     "data": {
      "text/html": [
       "<div>\n",
       "<style scoped>\n",
       "    .dataframe tbody tr th:only-of-type {\n",
       "        vertical-align: middle;\n",
       "    }\n",
       "\n",
       "    .dataframe tbody tr th {\n",
       "        vertical-align: top;\n",
       "    }\n",
       "\n",
       "    .dataframe thead th {\n",
       "        text-align: right;\n",
       "    }\n",
       "</style>\n",
       "<table border=\"1\" class=\"dataframe\">\n",
       "  <thead>\n",
       "    <tr style=\"text-align: right;\">\n",
       "      <th></th>\n",
       "      <th>Job Title</th>\n",
       "      <th>Salary Estimate</th>\n",
       "      <th>Job Description</th>\n",
       "      <th>Rating</th>\n",
       "      <th>Company Name</th>\n",
       "      <th>Location</th>\n",
       "      <th>Size</th>\n",
       "      <th>Founded</th>\n",
       "      <th>Type of ownership</th>\n",
       "      <th>Industry</th>\n",
       "      <th>...</th>\n",
       "      <th>avg_salary</th>\n",
       "      <th>python_req</th>\n",
       "      <th>sql_req</th>\n",
       "      <th>Tensorflow_req</th>\n",
       "      <th>excel_req</th>\n",
       "      <th>cloud_req</th>\n",
       "      <th>jobs_grouped</th>\n",
       "      <th>level</th>\n",
       "      <th>desc_len</th>\n",
       "      <th>company_age</th>\n",
       "    </tr>\n",
       "  </thead>\n",
       "  <tbody>\n",
       "    <tr>\n",
       "      <th>0</th>\n",
       "      <td>Senior Python Data Engineer</td>\n",
       "      <td>433000 - 763000</td>\n",
       "      <td>StartUs Insights, an international data scienc...</td>\n",
       "      <td>4.6</td>\n",
       "      <td>StartUs Insights</td>\n",
       "      <td>Remote</td>\n",
       "      <td>1 to 50</td>\n",
       "      <td>2014</td>\n",
       "      <td>Company - Private</td>\n",
       "      <td>Internet</td>\n",
       "      <td>...</td>\n",
       "      <td>598000.0</td>\n",
       "      <td>1</td>\n",
       "      <td>1</td>\n",
       "      <td>0</td>\n",
       "      <td>0</td>\n",
       "      <td>0</td>\n",
       "      <td>data engineer</td>\n",
       "      <td>senior</td>\n",
       "      <td>613</td>\n",
       "      <td>8</td>\n",
       "    </tr>\n",
       "    <tr>\n",
       "      <th>1</th>\n",
       "      <td>Senior Big Data Engineer (Python)</td>\n",
       "      <td>433000 - 763000</td>\n",
       "      <td>StartUs Insights, an international data scienc...</td>\n",
       "      <td>4.6</td>\n",
       "      <td>StartUs Insights</td>\n",
       "      <td>Remote</td>\n",
       "      <td>1 to 50</td>\n",
       "      <td>2014</td>\n",
       "      <td>Company - Private</td>\n",
       "      <td>Internet</td>\n",
       "      <td>...</td>\n",
       "      <td>598000.0</td>\n",
       "      <td>1</td>\n",
       "      <td>1</td>\n",
       "      <td>0</td>\n",
       "      <td>0</td>\n",
       "      <td>0</td>\n",
       "      <td>data engineer</td>\n",
       "      <td>senior</td>\n",
       "      <td>613</td>\n",
       "      <td>8</td>\n",
       "    </tr>\n",
       "    <tr>\n",
       "      <th>2</th>\n",
       "      <td>Data Scientist</td>\n",
       "      <td>433000 - 763000</td>\n",
       "      <td>About Us:\\nMobiKwik is India's largest indepen...</td>\n",
       "      <td>3.9</td>\n",
       "      <td>MobiKwik</td>\n",
       "      <td>Gurgaon</td>\n",
       "      <td>201 to 500</td>\n",
       "      <td>2009</td>\n",
       "      <td>Company - Private</td>\n",
       "      <td>Financial Transaction Processing</td>\n",
       "      <td>...</td>\n",
       "      <td>598000.0</td>\n",
       "      <td>0</td>\n",
       "      <td>0</td>\n",
       "      <td>0</td>\n",
       "      <td>0</td>\n",
       "      <td>0</td>\n",
       "      <td>data scientist</td>\n",
       "      <td>na</td>\n",
       "      <td>1830</td>\n",
       "      <td>13</td>\n",
       "    </tr>\n",
       "    <tr>\n",
       "      <th>3</th>\n",
       "      <td>Data Scientist</td>\n",
       "      <td>433000 - 763000</td>\n",
       "      <td>Ahmedabad\\nBe a part of the movement to revolu...</td>\n",
       "      <td>-1.0</td>\n",
       "      <td>R3coder</td>\n",
       "      <td>Ahmedabad</td>\n",
       "      <td></td>\n",
       "      <td>-1</td>\n",
       "      <td>-1</td>\n",
       "      <td>-1</td>\n",
       "      <td>...</td>\n",
       "      <td>598000.0</td>\n",
       "      <td>0</td>\n",
       "      <td>0</td>\n",
       "      <td>0</td>\n",
       "      <td>0</td>\n",
       "      <td>0</td>\n",
       "      <td>data scientist</td>\n",
       "      <td>na</td>\n",
       "      <td>758</td>\n",
       "      <td>-1</td>\n",
       "    </tr>\n",
       "    <tr>\n",
       "      <th>4</th>\n",
       "      <td>Data Scientist</td>\n",
       "      <td>433000 - 763000</td>\n",
       "      <td>Job Description\\n\\nOffice No.13, B1, Galaxy Si...</td>\n",
       "      <td>4.2</td>\n",
       "      <td>Thomson Reuters</td>\n",
       "      <td>Ahmedabad</td>\n",
       "      <td>10000</td>\n",
       "      <td>2008</td>\n",
       "      <td>Company - Public</td>\n",
       "      <td>Enterprise Software &amp; Network Solutions</td>\n",
       "      <td>...</td>\n",
       "      <td>598000.0</td>\n",
       "      <td>1</td>\n",
       "      <td>0</td>\n",
       "      <td>1</td>\n",
       "      <td>1</td>\n",
       "      <td>1</td>\n",
       "      <td>data scientist</td>\n",
       "      <td>na</td>\n",
       "      <td>2446</td>\n",
       "      <td>14</td>\n",
       "    </tr>\n",
       "    <tr>\n",
       "      <th>...</th>\n",
       "      <td>...</td>\n",
       "      <td>...</td>\n",
       "      <td>...</td>\n",
       "      <td>...</td>\n",
       "      <td>...</td>\n",
       "      <td>...</td>\n",
       "      <td>...</td>\n",
       "      <td>...</td>\n",
       "      <td>...</td>\n",
       "      <td>...</td>\n",
       "      <td>...</td>\n",
       "      <td>...</td>\n",
       "      <td>...</td>\n",
       "      <td>...</td>\n",
       "      <td>...</td>\n",
       "      <td>...</td>\n",
       "      <td>...</td>\n",
       "      <td>...</td>\n",
       "      <td>...</td>\n",
       "      <td>...</td>\n",
       "      <td>...</td>\n",
       "    </tr>\n",
       "    <tr>\n",
       "      <th>861</th>\n",
       "      <td>Operations Lead - Platform Health (Data Analys...</td>\n",
       "      <td>510000 - 900000</td>\n",
       "      <td>Job Overview:\\nAs an Operations Lead - Platfor...</td>\n",
       "      <td>4.3</td>\n",
       "      <td>sharechat</td>\n",
       "      <td>Bangalore</td>\n",
       "      <td>1 to 50</td>\n",
       "      <td>-1</td>\n",
       "      <td>-1</td>\n",
       "      <td>-1</td>\n",
       "      <td>...</td>\n",
       "      <td>705000.0</td>\n",
       "      <td>0</td>\n",
       "      <td>1</td>\n",
       "      <td>0</td>\n",
       "      <td>1</td>\n",
       "      <td>0</td>\n",
       "      <td>analyst</td>\n",
       "      <td>senior</td>\n",
       "      <td>1413</td>\n",
       "      <td>-1</td>\n",
       "    </tr>\n",
       "    <tr>\n",
       "      <th>862</th>\n",
       "      <td>Data Engineer</td>\n",
       "      <td>510000 - 900000</td>\n",
       "      <td>The Data Engineer is responsible for design OT...</td>\n",
       "      <td>3.0</td>\n",
       "      <td>TalentNex Consulting Pte</td>\n",
       "      <td>India</td>\n",
       "      <td>1 to 50</td>\n",
       "      <td>-1</td>\n",
       "      <td>-1</td>\n",
       "      <td>-1</td>\n",
       "      <td>...</td>\n",
       "      <td>705000.0</td>\n",
       "      <td>0</td>\n",
       "      <td>0</td>\n",
       "      <td>0</td>\n",
       "      <td>0</td>\n",
       "      <td>0</td>\n",
       "      <td>data engineer</td>\n",
       "      <td>na</td>\n",
       "      <td>844</td>\n",
       "      <td>-1</td>\n",
       "    </tr>\n",
       "    <tr>\n",
       "      <th>863</th>\n",
       "      <td>Sr. Analyst- Data Science</td>\n",
       "      <td>510000 - 900000</td>\n",
       "      <td>Company Description\\n\\nAbout Merkle\\nMerkle is...</td>\n",
       "      <td>3.9</td>\n",
       "      <td>Merkle Sokrati</td>\n",
       "      <td>Pune</td>\n",
       "      <td>501 to 1000</td>\n",
       "      <td>2009</td>\n",
       "      <td>Company - Private</td>\n",
       "      <td>Advertising &amp; Marketing</td>\n",
       "      <td>...</td>\n",
       "      <td>705000.0</td>\n",
       "      <td>0</td>\n",
       "      <td>0</td>\n",
       "      <td>0</td>\n",
       "      <td>0</td>\n",
       "      <td>0</td>\n",
       "      <td>analyst</td>\n",
       "      <td>senior</td>\n",
       "      <td>721</td>\n",
       "      <td>13</td>\n",
       "    </tr>\n",
       "    <tr>\n",
       "      <th>864</th>\n",
       "      <td>Data Engineer</td>\n",
       "      <td>510000 - 900000</td>\n",
       "      <td>MUST HAVE EXPERIENCE IN HIVE, SPARK, AWS/AZURE...</td>\n",
       "      <td>3.6</td>\n",
       "      <td>Symphony Talent</td>\n",
       "      <td>Bangalore</td>\n",
       "      <td>201 to 500</td>\n",
       "      <td>-1</td>\n",
       "      <td>-1</td>\n",
       "      <td>Information Technology</td>\n",
       "      <td>...</td>\n",
       "      <td>705000.0</td>\n",
       "      <td>0</td>\n",
       "      <td>1</td>\n",
       "      <td>0</td>\n",
       "      <td>0</td>\n",
       "      <td>0</td>\n",
       "      <td>data engineer</td>\n",
       "      <td>na</td>\n",
       "      <td>531</td>\n",
       "      <td>-1</td>\n",
       "    </tr>\n",
       "    <tr>\n",
       "      <th>865</th>\n",
       "      <td>Data Engineer</td>\n",
       "      <td>510000 - 900000</td>\n",
       "      <td>Employment Type: Permanent\\n\\nExperience Level...</td>\n",
       "      <td>2.9</td>\n",
       "      <td></td>\n",
       "      <td>Mumbai</td>\n",
       "      <td>1 to 50</td>\n",
       "      <td>2010</td>\n",
       "      <td>Company - Private</td>\n",
       "      <td>Advertising &amp; Marketing</td>\n",
       "      <td>...</td>\n",
       "      <td>705000.0</td>\n",
       "      <td>1</td>\n",
       "      <td>1</td>\n",
       "      <td>0</td>\n",
       "      <td>1</td>\n",
       "      <td>0</td>\n",
       "      <td>data engineer</td>\n",
       "      <td>na</td>\n",
       "      <td>1129</td>\n",
       "      <td>12</td>\n",
       "    </tr>\n",
       "  </tbody>\n",
       "</table>\n",
       "<p>866 rows × 22 columns</p>\n",
       "</div>"
      ],
      "text/plain": [
       "                                             Job Title   Salary Estimate  \\\n",
       "0                          Senior Python Data Engineer  433000 - 763000    \n",
       "1                    Senior Big Data Engineer (Python)  433000 - 763000    \n",
       "2                                       Data Scientist  433000 - 763000    \n",
       "3                                       Data Scientist  433000 - 763000    \n",
       "4                                       Data Scientist  433000 - 763000    \n",
       "..                                                 ...               ...   \n",
       "861  Operations Lead - Platform Health (Data Analys...  510000 - 900000    \n",
       "862                                      Data Engineer  510000 - 900000    \n",
       "863                          Sr. Analyst- Data Science  510000 - 900000    \n",
       "864                                      Data Engineer  510000 - 900000    \n",
       "865                                      Data Engineer  510000 - 900000    \n",
       "\n",
       "                                       Job Description  Rating  \\\n",
       "0    StartUs Insights, an international data scienc...     4.6   \n",
       "1    StartUs Insights, an international data scienc...     4.6   \n",
       "2    About Us:\\nMobiKwik is India's largest indepen...     3.9   \n",
       "3    Ahmedabad\\nBe a part of the movement to revolu...    -1.0   \n",
       "4    Job Description\\n\\nOffice No.13, B1, Galaxy Si...     4.2   \n",
       "..                                                 ...     ...   \n",
       "861  Job Overview:\\nAs an Operations Lead - Platfor...     4.3   \n",
       "862  The Data Engineer is responsible for design OT...     3.0   \n",
       "863  Company Description\\n\\nAbout Merkle\\nMerkle is...     3.9   \n",
       "864  MUST HAVE EXPERIENCE IN HIVE, SPARK, AWS/AZURE...     3.6   \n",
       "865  Employment Type: Permanent\\n\\nExperience Level...     2.9   \n",
       "\n",
       "                  Company Name   Location         Size  Founded  \\\n",
       "0             StartUs Insights     Remote      1 to 50     2014   \n",
       "1             StartUs Insights     Remote      1 to 50     2014   \n",
       "2                     MobiKwik    Gurgaon   201 to 500     2009   \n",
       "3                      R3coder  Ahmedabad                    -1   \n",
       "4              Thomson Reuters  Ahmedabad        10000     2008   \n",
       "..                         ...        ...          ...      ...   \n",
       "861                  sharechat  Bangalore      1 to 50       -1   \n",
       "862  TalentNex Consulting Pte       India      1 to 50       -1   \n",
       "863             Merkle Sokrati       Pune  501 to 1000     2009   \n",
       "864            Symphony Talent  Bangalore   201 to 500       -1   \n",
       "865                                Mumbai      1 to 50     2010   \n",
       "\n",
       "     Type of ownership                                 Industry  ...  \\\n",
       "0    Company - Private                                 Internet  ...   \n",
       "1    Company - Private                                 Internet  ...   \n",
       "2    Company - Private         Financial Transaction Processing  ...   \n",
       "3                   -1                                       -1  ...   \n",
       "4     Company - Public  Enterprise Software & Network Solutions  ...   \n",
       "..                 ...                                      ...  ...   \n",
       "861                 -1                                       -1  ...   \n",
       "862                 -1                                       -1  ...   \n",
       "863  Company - Private                  Advertising & Marketing  ...   \n",
       "864                 -1                   Information Technology  ...   \n",
       "865  Company - Private                  Advertising & Marketing  ...   \n",
       "\n",
       "    avg_salary python_req  sql_req  Tensorflow_req  excel_req  cloud_req  \\\n",
       "0     598000.0          1        1               0          0          0   \n",
       "1     598000.0          1        1               0          0          0   \n",
       "2     598000.0          0        0               0          0          0   \n",
       "3     598000.0          0        0               0          0          0   \n",
       "4     598000.0          1        0               1          1          1   \n",
       "..         ...        ...      ...             ...        ...        ...   \n",
       "861   705000.0          0        1               0          1          0   \n",
       "862   705000.0          0        0               0          0          0   \n",
       "863   705000.0          0        0               0          0          0   \n",
       "864   705000.0          0        1               0          0          0   \n",
       "865   705000.0          1        1               0          1          0   \n",
       "\n",
       "       jobs_grouped   level desc_len company_age  \n",
       "0     data engineer  senior      613           8  \n",
       "1     data engineer  senior      613           8  \n",
       "2    data scientist      na     1830          13  \n",
       "3    data scientist      na      758          -1  \n",
       "4    data scientist      na     2446          14  \n",
       "..              ...     ...      ...         ...  \n",
       "861         analyst  senior     1413          -1  \n",
       "862   data engineer      na      844          -1  \n",
       "863         analyst  senior      721          13  \n",
       "864   data engineer      na      531          -1  \n",
       "865   data engineer      na     1129          12  \n",
       "\n",
       "[866 rows x 22 columns]"
      ]
     },
     "execution_count": 308,
     "metadata": {},
     "output_type": "execute_result"
    }
   ],
   "source": [
    "df1"
   ]
  },
  {
   "cell_type": "code",
   "execution_count": 309,
   "metadata": {},
   "outputs": [
    {
     "data": {
      "text/plain": [
       "Index(['Job Title', 'Salary Estimate', 'Job Description', 'Rating',\n",
       "       'Company Name', 'Location', 'Size', 'Founded', 'Type of ownership',\n",
       "       'Industry', 'Sector', 'Revenue', 'avg_salary', 'python_req', 'sql_req',\n",
       "       'Tensorflow_req', 'excel_req', 'cloud_req', 'jobs_grouped', 'level',\n",
       "       'desc_len', 'company_age'],\n",
       "      dtype='object')"
      ]
     },
     "execution_count": 309,
     "metadata": {},
     "output_type": "execute_result"
    }
   ],
   "source": [
    "df1.columns"
   ]
  },
  {
   "cell_type": "code",
   "execution_count": 310,
   "metadata": {
    "scrolled": false
   },
   "outputs": [
    {
     "data": {
      "text/html": [
       "<div>\n",
       "<style scoped>\n",
       "    .dataframe tbody tr th:only-of-type {\n",
       "        vertical-align: middle;\n",
       "    }\n",
       "\n",
       "    .dataframe tbody tr th {\n",
       "        vertical-align: top;\n",
       "    }\n",
       "\n",
       "    .dataframe thead th {\n",
       "        text-align: right;\n",
       "    }\n",
       "</style>\n",
       "<table border=\"1\" class=\"dataframe\">\n",
       "  <thead>\n",
       "    <tr style=\"text-align: right;\">\n",
       "      <th></th>\n",
       "      <th>Job Title</th>\n",
       "    </tr>\n",
       "  </thead>\n",
       "  <tbody>\n",
       "    <tr>\n",
       "      <th>Data Scientist</th>\n",
       "      <td>200</td>\n",
       "    </tr>\n",
       "    <tr>\n",
       "      <th>Data Engineer</th>\n",
       "      <td>143</td>\n",
       "    </tr>\n",
       "    <tr>\n",
       "      <th>Senior Data Scientist</th>\n",
       "      <td>65</td>\n",
       "    </tr>\n",
       "    <tr>\n",
       "      <th>Data Analyst</th>\n",
       "      <td>38</td>\n",
       "    </tr>\n",
       "    <tr>\n",
       "      <th>Machine Learning Engineer</th>\n",
       "      <td>15</td>\n",
       "    </tr>\n",
       "    <tr>\n",
       "      <th>...</th>\n",
       "      <td>...</td>\n",
       "    </tr>\n",
       "    <tr>\n",
       "      <th>Junior Pricing Scientist</th>\n",
       "      <td>1</td>\n",
       "    </tr>\n",
       "    <tr>\n",
       "      <th>Professional - Data Scientist / Analytics</th>\n",
       "      <td>1</td>\n",
       "    </tr>\n",
       "    <tr>\n",
       "      <th>Data Engineer - Python with Azure ADF</th>\n",
       "      <td>1</td>\n",
       "    </tr>\n",
       "    <tr>\n",
       "      <th>Data Scientist – 2 Positions</th>\n",
       "      <td>1</td>\n",
       "    </tr>\n",
       "    <tr>\n",
       "      <th>data scientist</th>\n",
       "      <td>1</td>\n",
       "    </tr>\n",
       "  </tbody>\n",
       "</table>\n",
       "<p>310 rows × 1 columns</p>\n",
       "</div>"
      ],
      "text/plain": [
       "                                           Job Title\n",
       "Data Scientist                                   200\n",
       "Data Engineer                                    143\n",
       "Senior Data Scientist                             65\n",
       "Data Analyst                                      38\n",
       "Machine Learning Engineer                         15\n",
       "...                                              ...\n",
       "Junior Pricing Scientist                           1\n",
       "Professional - Data Scientist / Analytics          1\n",
       "Data Engineer - Python with Azure ADF              1\n",
       "Data Scientist – 2 Positions                       1\n",
       "data scientist                                     1\n",
       "\n",
       "[310 rows x 1 columns]"
      ]
     },
     "execution_count": 310,
     "metadata": {},
     "output_type": "execute_result"
    }
   ],
   "source": [
    "a = df1['Job Title'].value_counts()\n",
    "df_title = pd.DataFrame(a)\n",
    "df_title"
   ]
  },
  {
   "cell_type": "code",
   "execution_count": 311,
   "metadata": {},
   "outputs": [],
   "source": [
    "def group_jobs(title):\n",
    "    if 'data scientist' in title.lower():\n",
    "        return 'data scientist'\n",
    "    elif 'data engineer' in title.lower():\n",
    "        return 'data engineer'\n",
    "    elif 'analyst' in title.lower():\n",
    "        return 'analyst'\n",
    "    elif 'machine learning' in title.lower():\n",
    "        return 'mle'\n",
    "    elif 'manager' in title.lower():\n",
    "        return 'manager'\n",
    "    elif 'director' in title.lower():\n",
    "        return 'director'\n",
    "    else:\n",
    "        return 'na'\n",
    "\n",
    "    \n",
    "def level(title):\n",
    "    if 'sr' in title.lower() or 'senior' in title.lower() or 'sr.' in title.lower() or 'lead' in title.lower() or 'principal' in title.lower():\n",
    "            return 'senior'\n",
    "    elif 'junior' in title.lower() or 'jr.' in title.lower() or 'jr' in title.lower():\n",
    "        return 'jr'\n",
    "    else:\n",
    "        return 'na'\n",
    "    "
   ]
  },
  {
   "cell_type": "code",
   "execution_count": 312,
   "metadata": {},
   "outputs": [
    {
     "data": {
      "text/plain": [
       "data scientist    545\n",
       "data engineer     172\n",
       "analyst            67\n",
       "na                 57\n",
       "mle                18\n",
       "manager             6\n",
       "director            1\n",
       "Name: jobs_grouped, dtype: int64"
      ]
     },
     "execution_count": 312,
     "metadata": {},
     "output_type": "execute_result"
    }
   ],
   "source": [
    "df1['jobs_grouped'] = df1['Job Title'].apply(lambda x: group_jobs(x))\n",
    "df1['jobs_grouped'].value_counts()"
   ]
  },
  {
   "cell_type": "code",
   "execution_count": 313,
   "metadata": {},
   "outputs": [
    {
     "data": {
      "text/plain": [
       "na        672\n",
       "senior    187\n",
       "jr          7\n",
       "Name: level, dtype: int64"
      ]
     },
     "execution_count": 313,
     "metadata": {},
     "output_type": "execute_result"
    }
   ],
   "source": [
    "df1['level'] = df1['Job Title'].apply(lambda x: level(x))\n",
    "df1['level'].value_counts()"
   ]
  },
  {
   "cell_type": "code",
   "execution_count": 314,
   "metadata": {},
   "outputs": [
    {
     "data": {
      "text/plain": [
       "0       613\n",
       "1       613\n",
       "2      1830\n",
       "3       758\n",
       "4      2446\n",
       "       ... \n",
       "861    1413\n",
       "862     844\n",
       "863     721\n",
       "864     531\n",
       "865    1129\n",
       "Name: desc_len, Length: 866, dtype: int64"
      ]
     },
     "execution_count": 314,
     "metadata": {},
     "output_type": "execute_result"
    }
   ],
   "source": [
    "df1['desc_len'] = df1['Job Description'].apply(lambda x: len(x))\n",
    "df1['desc_len']"
   ]
  },
  {
   "cell_type": "code",
   "execution_count": 315,
   "metadata": {},
   "outputs": [
    {
     "data": {
      "text/html": [
       "<div>\n",
       "<style scoped>\n",
       "    .dataframe tbody tr th:only-of-type {\n",
       "        vertical-align: middle;\n",
       "    }\n",
       "\n",
       "    .dataframe tbody tr th {\n",
       "        vertical-align: top;\n",
       "    }\n",
       "\n",
       "    .dataframe thead th {\n",
       "        text-align: right;\n",
       "    }\n",
       "</style>\n",
       "<table border=\"1\" class=\"dataframe\">\n",
       "  <thead>\n",
       "    <tr style=\"text-align: right;\">\n",
       "      <th></th>\n",
       "      <th>Rating</th>\n",
       "      <th>Founded</th>\n",
       "      <th>avg_salary</th>\n",
       "      <th>python_req</th>\n",
       "      <th>sql_req</th>\n",
       "      <th>Tensorflow_req</th>\n",
       "      <th>excel_req</th>\n",
       "      <th>cloud_req</th>\n",
       "      <th>desc_len</th>\n",
       "      <th>company_age</th>\n",
       "    </tr>\n",
       "  </thead>\n",
       "  <tbody>\n",
       "    <tr>\n",
       "      <th>count</th>\n",
       "      <td>866.000000</td>\n",
       "      <td>866.000000</td>\n",
       "      <td>8.660000e+02</td>\n",
       "      <td>866.000000</td>\n",
       "      <td>866.000000</td>\n",
       "      <td>866.000000</td>\n",
       "      <td>866.000000</td>\n",
       "      <td>866.000000</td>\n",
       "      <td>866.000000</td>\n",
       "      <td>866.000000</td>\n",
       "    </tr>\n",
       "    <tr>\n",
       "      <th>mean</th>\n",
       "      <td>3.372748</td>\n",
       "      <td>1371.106236</td>\n",
       "      <td>6.647431e+05</td>\n",
       "      <td>0.211316</td>\n",
       "      <td>0.158199</td>\n",
       "      <td>0.055427</td>\n",
       "      <td>0.115473</td>\n",
       "      <td>0.133949</td>\n",
       "      <td>1080.744804</td>\n",
       "      <td>31.540416</td>\n",
       "    </tr>\n",
       "    <tr>\n",
       "      <th>std</th>\n",
       "      <td>1.671715</td>\n",
       "      <td>912.733476</td>\n",
       "      <td>1.256647e+05</td>\n",
       "      <td>0.408478</td>\n",
       "      <td>0.365138</td>\n",
       "      <td>0.228945</td>\n",
       "      <td>0.319777</td>\n",
       "      <td>0.340795</td>\n",
       "      <td>1033.640585</td>\n",
       "      <td>49.584995</td>\n",
       "    </tr>\n",
       "    <tr>\n",
       "      <th>min</th>\n",
       "      <td>-1.000000</td>\n",
       "      <td>-1.000000</td>\n",
       "      <td>4.055000e+05</td>\n",
       "      <td>0.000000</td>\n",
       "      <td>0.000000</td>\n",
       "      <td>0.000000</td>\n",
       "      <td>0.000000</td>\n",
       "      <td>0.000000</td>\n",
       "      <td>38.000000</td>\n",
       "      <td>-1.000000</td>\n",
       "    </tr>\n",
       "    <tr>\n",
       "      <th>25%</th>\n",
       "      <td>3.500000</td>\n",
       "      <td>-1.000000</td>\n",
       "      <td>5.565000e+05</td>\n",
       "      <td>0.000000</td>\n",
       "      <td>0.000000</td>\n",
       "      <td>0.000000</td>\n",
       "      <td>0.000000</td>\n",
       "      <td>0.000000</td>\n",
       "      <td>557.750000</td>\n",
       "      <td>-1.000000</td>\n",
       "    </tr>\n",
       "    <tr>\n",
       "      <th>50%</th>\n",
       "      <td>3.900000</td>\n",
       "      <td>1975.000000</td>\n",
       "      <td>6.750000e+05</td>\n",
       "      <td>0.000000</td>\n",
       "      <td>0.000000</td>\n",
       "      <td>0.000000</td>\n",
       "      <td>0.000000</td>\n",
       "      <td>0.000000</td>\n",
       "      <td>777.500000</td>\n",
       "      <td>13.000000</td>\n",
       "    </tr>\n",
       "    <tr>\n",
       "      <th>75%</th>\n",
       "      <td>4.300000</td>\n",
       "      <td>2004.000000</td>\n",
       "      <td>7.280000e+05</td>\n",
       "      <td>0.000000</td>\n",
       "      <td>0.000000</td>\n",
       "      <td>0.000000</td>\n",
       "      <td>0.000000</td>\n",
       "      <td>0.000000</td>\n",
       "      <td>1124.500000</td>\n",
       "      <td>36.000000</td>\n",
       "    </tr>\n",
       "    <tr>\n",
       "      <th>max</th>\n",
       "      <td>5.000000</td>\n",
       "      <td>2021.000000</td>\n",
       "      <td>1.022000e+06</td>\n",
       "      <td>1.000000</td>\n",
       "      <td>1.000000</td>\n",
       "      <td>1.000000</td>\n",
       "      <td>1.000000</td>\n",
       "      <td>1.000000</td>\n",
       "      <td>10677.000000</td>\n",
       "      <td>352.000000</td>\n",
       "    </tr>\n",
       "  </tbody>\n",
       "</table>\n",
       "</div>"
      ],
      "text/plain": [
       "           Rating      Founded    avg_salary  python_req     sql_req  \\\n",
       "count  866.000000   866.000000  8.660000e+02  866.000000  866.000000   \n",
       "mean     3.372748  1371.106236  6.647431e+05    0.211316    0.158199   \n",
       "std      1.671715   912.733476  1.256647e+05    0.408478    0.365138   \n",
       "min     -1.000000    -1.000000  4.055000e+05    0.000000    0.000000   \n",
       "25%      3.500000    -1.000000  5.565000e+05    0.000000    0.000000   \n",
       "50%      3.900000  1975.000000  6.750000e+05    0.000000    0.000000   \n",
       "75%      4.300000  2004.000000  7.280000e+05    0.000000    0.000000   \n",
       "max      5.000000  2021.000000  1.022000e+06    1.000000    1.000000   \n",
       "\n",
       "       Tensorflow_req   excel_req   cloud_req      desc_len  company_age  \n",
       "count      866.000000  866.000000  866.000000    866.000000   866.000000  \n",
       "mean         0.055427    0.115473    0.133949   1080.744804    31.540416  \n",
       "std          0.228945    0.319777    0.340795   1033.640585    49.584995  \n",
       "min          0.000000    0.000000    0.000000     38.000000    -1.000000  \n",
       "25%          0.000000    0.000000    0.000000    557.750000    -1.000000  \n",
       "50%          0.000000    0.000000    0.000000    777.500000    13.000000  \n",
       "75%          0.000000    0.000000    0.000000   1124.500000    36.000000  \n",
       "max          1.000000    1.000000    1.000000  10677.000000   352.000000  "
      ]
     },
     "execution_count": 315,
     "metadata": {},
     "output_type": "execute_result"
    }
   ],
   "source": [
    "df1.describe()"
   ]
  },
  {
   "cell_type": "code",
   "execution_count": 316,
   "metadata": {
    "scrolled": true
   },
   "outputs": [
    {
     "data": {
      "text/plain": [
       "<AxesSubplot:>"
      ]
     },
     "execution_count": 316,
     "metadata": {},
     "output_type": "execute_result"
    },
    {
     "data": {
      "image/png": "[encoded data removed]",
      "text/plain": [
       "<Figure size 432x288 with 1 Axes>"
      ]
     },
     "metadata": {
      "needs_background": "light"
     },
     "output_type": "display_data"
    }
   ],
   "source": [
    "idx = ['Rating', 'avg_salary', 'desc_len', 'company_age','total emp']\n",
    "df1['Rating'].hist()"
   ]
  },
  {
   "cell_type": "code",
   "execution_count": 317,
   "metadata": {},
   "outputs": [
    {
     "data": {
      "text/plain": [
       "<AxesSubplot:>"
      ]
     },
     "execution_count": 317,
     "metadata": {},
     "output_type": "execute_result"
    },
    {
     "data": {
      "image/png": "[encoded data removed]",
      "text/plain": [
       "<Figure size 432x288 with 1 Axes>"
      ]
     },
     "metadata": {
      "needs_background": "light"
     },
     "output_type": "display_data"
    }
   ],
   "source": [
    "df1['avg_salary'].hist()"
   ]
  },
  {
   "cell_type": "code",
   "execution_count": 318,
   "metadata": {},
   "outputs": [
    {
     "data": {
      "text/plain": [
       "<AxesSubplot:>"
      ]
     },
     "execution_count": 318,
     "metadata": {},
     "output_type": "execute_result"
    },
    {
     "data": {
      "image/png": "[encoded data removed]",
      "text/plain": [
       "<Figure size 432x288 with 1 Axes>"
      ]
     },
     "metadata": {
      "needs_background": "light"
     },
     "output_type": "display_data"
    }
   ],
   "source": [
    "df1['desc_len'].hist()"
   ]
  },
  {
   "cell_type": "code",
   "execution_count": 319,
   "metadata": {},
   "outputs": [
    {
     "ename": "KeyError",
     "evalue": "'total emp'",
     "output_type": "error",
     "traceback": [
      "\u001b[0;31m---------------------------------------------------------------------------\u001b[0m",
      "\u001b[0;31mKeyError\u001b[0m                                  Traceback (most recent call last)",
      "\u001b[0;32m~/anaconda3/lib/python3.8/site-packages/pandas/core/indexes/base.py\u001b[0m in \u001b[0;36mget_loc\u001b[0;34m(self, key, method, tolerance)\u001b[0m\n\u001b[1;32m   3080\u001b[0m             \u001b[0;32mtry\u001b[0m\u001b[0;34m:\u001b[0m\u001b[0;34m\u001b[0m\u001b[0;34m\u001b[0m\u001b[0m\n\u001b[0;32m-> 3081\u001b[0;31m                 \u001b[0;32mreturn\u001b[0m \u001b[0mself\u001b[0m\u001b[0;34m.\u001b[0m\u001b[0m_engine\u001b[0m\u001b[0;34m.\u001b[0m\u001b[0mget_loc\u001b[0m\u001b[0;34m(\u001b[0m\u001b[0mcasted_key\u001b[0m\u001b[0;34m)\u001b[0m\u001b[0;34m\u001b[0m\u001b[0;34m\u001b[0m\u001b[0m\n\u001b[0m\u001b[1;32m   3082\u001b[0m             \u001b[0;32mexcept\u001b[0m \u001b[0mKeyError\u001b[0m \u001b[0;32mas\u001b[0m \u001b[0merr\u001b[0m\u001b[0;34m:\u001b[0m\u001b[0;34m\u001b[0m\u001b[0;34m\u001b[0m\u001b[0m\n",
      "\u001b[0;32mpandas/_libs/index.pyx\u001b[0m in \u001b[0;36mpandas._libs.index.IndexEngine.get_loc\u001b[0;34m()\u001b[0m\n",
      "\u001b[0;32mpandas/_libs/index.pyx\u001b[0m in \u001b[0;36mpandas._libs.index.IndexEngine.get_loc\u001b[0;34m()\u001b[0m\n",
      "\u001b[0;32mpandas/_libs/hashtable_class_helper.pxi\u001b[0m in \u001b[0;36mpandas._libs.hashtable.PyObjectHashTable.get_item\u001b[0;34m()\u001b[0m\n",
      "\u001b[0;32mpandas/_libs/hashtable_class_helper.pxi\u001b[0m in \u001b[0;36mpandas._libs.hashtable.PyObjectHashTable.get_item\u001b[0;34m()\u001b[0m\n",
      "\u001b[0;31mKeyError\u001b[0m: 'total emp'",
      "\nThe above exception was the direct cause of the following exception:\n",
      "\u001b[0;31mKeyError\u001b[0m                                  Traceback (most recent call last)",
      "\u001b[0;32m<ipython-input-319-e1dc7f6e70c7>\u001b[0m in \u001b[0;36m<module>\u001b[0;34m\u001b[0m\n\u001b[0;32m----> 1\u001b[0;31m \u001b[0mdf1\u001b[0m\u001b[0;34m[\u001b[0m\u001b[0;34m'total emp'\u001b[0m\u001b[0;34m]\u001b[0m\u001b[0;34m.\u001b[0m\u001b[0mhist\u001b[0m\u001b[0;34m(\u001b[0m\u001b[0;34m)\u001b[0m\u001b[0;34m\u001b[0m\u001b[0;34m\u001b[0m\u001b[0m\n\u001b[0m",
      "\u001b[0;32m~/anaconda3/lib/python3.8/site-packages/pandas/core/frame.py\u001b[0m in \u001b[0;36m__getitem__\u001b[0;34m(self, key)\u001b[0m\n\u001b[1;32m   3022\u001b[0m             \u001b[0;32mif\u001b[0m \u001b[0mself\u001b[0m\u001b[0;34m.\u001b[0m\u001b[0mcolumns\u001b[0m\u001b[0;34m.\u001b[0m\u001b[0mnlevels\u001b[0m \u001b[0;34m>\u001b[0m \u001b[0;36m1\u001b[0m\u001b[0;34m:\u001b[0m\u001b[0;34m\u001b[0m\u001b[0;34m\u001b[0m\u001b[0m\n\u001b[1;32m   3023\u001b[0m                 \u001b[0;32mreturn\u001b[0m \u001b[0mself\u001b[0m\u001b[0;34m.\u001b[0m\u001b[0m_getitem_multilevel\u001b[0m\u001b[0;34m(\u001b[0m\u001b[0mkey\u001b[0m\u001b[0;34m)\u001b[0m\u001b[0;34m\u001b[0m\u001b[0;34m\u001b[0m\u001b[0m\n\u001b[0;32m-> 3024\u001b[0;31m             \u001b[0mindexer\u001b[0m \u001b[0;34m=\u001b[0m \u001b[0mself\u001b[0m\u001b[0;34m.\u001b[0m\u001b[0mcolumns\u001b[0m\u001b[0;34m.\u001b[0m\u001b[0mget_loc\u001b[0m\u001b[0;34m(\u001b[0m\u001b[0mkey\u001b[0m\u001b[0;34m)\u001b[0m\u001b[0;34m\u001b[0m\u001b[0;34m\u001b[0m\u001b[0m\n\u001b[0m\u001b[1;32m   3025\u001b[0m             \u001b[0;32mif\u001b[0m \u001b[0mis_integer\u001b[0m\u001b[0;34m(\u001b[0m\u001b[0mindexer\u001b[0m\u001b[0;34m)\u001b[0m\u001b[0;34m:\u001b[0m\u001b[0;34m\u001b[0m\u001b[0;34m\u001b[0m\u001b[0m\n\u001b[1;32m   3026\u001b[0m                 \u001b[0mindexer\u001b[0m \u001b[0;34m=\u001b[0m \u001b[0;34m[\u001b[0m\u001b[0mindexer\u001b[0m\u001b[0;34m]\u001b[0m\u001b[0;34m\u001b[0m\u001b[0;34m\u001b[0m\u001b[0m\n",
      "\u001b[0;32m~/anaconda3/lib/python3.8/site-packages/pandas/core/indexes/base.py\u001b[0m in \u001b[0;36mget_loc\u001b[0;34m(self, key, method, tolerance)\u001b[0m\n\u001b[1;32m   3081\u001b[0m                 \u001b[0;32mreturn\u001b[0m \u001b[0mself\u001b[0m\u001b[0;34m.\u001b[0m\u001b[0m_engine\u001b[0m\u001b[0;34m.\u001b[0m\u001b[0mget_loc\u001b[0m\u001b[0;34m(\u001b[0m\u001b[0mcasted_key\u001b[0m\u001b[0;34m)\u001b[0m\u001b[0;34m\u001b[0m\u001b[0;34m\u001b[0m\u001b[0m\n\u001b[1;32m   3082\u001b[0m             \u001b[0;32mexcept\u001b[0m \u001b[0mKeyError\u001b[0m \u001b[0;32mas\u001b[0m \u001b[0merr\u001b[0m\u001b[0;34m:\u001b[0m\u001b[0;34m\u001b[0m\u001b[0;34m\u001b[0m\u001b[0m\n\u001b[0;32m-> 3083\u001b[0;31m                 \u001b[0;32mraise\u001b[0m \u001b[0mKeyError\u001b[0m\u001b[0;34m(\u001b[0m\u001b[0mkey\u001b[0m\u001b[0;34m)\u001b[0m \u001b[0;32mfrom\u001b[0m \u001b[0merr\u001b[0m\u001b[0;34m\u001b[0m\u001b[0;34m\u001b[0m\u001b[0m\n\u001b[0m\u001b[1;32m   3084\u001b[0m \u001b[0;34m\u001b[0m\u001b[0m\n\u001b[1;32m   3085\u001b[0m         \u001b[0;32mif\u001b[0m \u001b[0mtolerance\u001b[0m \u001b[0;32mis\u001b[0m \u001b[0;32mnot\u001b[0m \u001b[0;32mNone\u001b[0m\u001b[0;34m:\u001b[0m\u001b[0;34m\u001b[0m\u001b[0;34m\u001b[0m\u001b[0m\n",
      "\u001b[0;31mKeyError\u001b[0m: 'total emp'"
     ]
    }
   ],
   "source": [
    "df1['total emp'].hist()"
   ]
  },
  {
   "cell_type": "code",
   "execution_count": 320,
   "metadata": {},
   "outputs": [
    {
     "data": {
      "text/plain": [
       "<AxesSubplot:>"
      ]
     },
     "execution_count": 320,
     "metadata": {},
     "output_type": "execute_result"
    },
    {
     "data": {
      "image/png": "[encoded data removed]",
      "text/plain": [
       "<Figure size 432x288 with 1 Axes>"
      ]
     },
     "metadata": {
      "needs_background": "light"
     },
     "output_type": "display_data"
    }
   ],
   "source": [
    "df1.boxplot(column = 'Rating')"
   ]
  },
  {
   "cell_type": "code",
   "execution_count": 321,
   "metadata": {},
   "outputs": [
    {
     "data": {
      "text/plain": [
       "<AxesSubplot:>"
      ]
     },
     "execution_count": 321,
     "metadata": {},
     "output_type": "execute_result"
    },
    {
     "data": {
      "image/png": "[encoded data removed]",
      "text/plain": [
       "<Figure size 432x288 with 1 Axes>"
      ]
     },
     "metadata": {
      "needs_background": "light"
     },
     "output_type": "display_data"
    }
   ],
   "source": [
    "df1.boxplot(column = 'avg_salary')"
   ]
  },
  {
   "cell_type": "code",
   "execution_count": 322,
   "metadata": {},
   "outputs": [
    {
     "data": {
      "text/plain": [
       "<AxesSubplot:>"
      ]
     },
     "execution_count": 322,
     "metadata": {},
     "output_type": "execute_result"
    },
    {
     "data": {
      "image/png": "[encoded data removed]",
      "text/plain": [
       "<Figure size 432x288 with 1 Axes>"
      ]
     },
     "metadata": {
      "needs_background": "light"
     },
     "output_type": "display_data"
    }
   ],
   "source": [
    "df1.boxplot(column = 'desc_len')"
   ]
  },
  {
   "cell_type": "code",
   "execution_count": 323,
   "metadata": {},
   "outputs": [
    {
     "ename": "KeyError",
     "evalue": "\"None of [Index(['total emp'], dtype='object')] are in the [columns]\"",
     "output_type": "error",
     "traceback": [
      "\u001b[0;31m---------------------------------------------------------------------------\u001b[0m",
      "\u001b[0;31mKeyError\u001b[0m                                  Traceback (most recent call last)",
      "\u001b[0;32m<ipython-input-323-89ecb176c1a3>\u001b[0m in \u001b[0;36m<module>\u001b[0;34m\u001b[0m\n\u001b[0;32m----> 1\u001b[0;31m \u001b[0mdf1\u001b[0m\u001b[0;34m.\u001b[0m\u001b[0mboxplot\u001b[0m\u001b[0;34m(\u001b[0m\u001b[0;34m'total emp'\u001b[0m\u001b[0;34m)\u001b[0m\u001b[0;34m\u001b[0m\u001b[0;34m\u001b[0m\u001b[0m\n\u001b[0m",
      "\u001b[0;32m~/anaconda3/lib/python3.8/site-packages/pandas/plotting/_core.py\u001b[0m in \u001b[0;36mboxplot_frame\u001b[0;34m(self, column, by, ax, fontsize, rot, grid, figsize, layout, return_type, backend, **kwargs)\u001b[0m\n\u001b[1;32m    492\u001b[0m ):\n\u001b[1;32m    493\u001b[0m     \u001b[0mplot_backend\u001b[0m \u001b[0;34m=\u001b[0m \u001b[0m_get_plot_backend\u001b[0m\u001b[0;34m(\u001b[0m\u001b[0mbackend\u001b[0m\u001b[0;34m)\u001b[0m\u001b[0;34m\u001b[0m\u001b[0;34m\u001b[0m\u001b[0m\n\u001b[0;32m--> 494\u001b[0;31m     return plot_backend.boxplot_frame(\n\u001b[0m\u001b[1;32m    495\u001b[0m         \u001b[0mself\u001b[0m\u001b[0;34m,\u001b[0m\u001b[0;34m\u001b[0m\u001b[0;34m\u001b[0m\u001b[0m\n\u001b[1;32m    496\u001b[0m         \u001b[0mcolumn\u001b[0m\u001b[0;34m=\u001b[0m\u001b[0mcolumn\u001b[0m\u001b[0;34m,\u001b[0m\u001b[0;34m\u001b[0m\u001b[0;34m\u001b[0m\u001b[0m\n",
      "\u001b[0;32m~/anaconda3/lib/python3.8/site-packages/pandas/plotting/_matplotlib/boxplot.py\u001b[0m in \u001b[0;36mboxplot_frame\u001b[0;34m(self, column, by, ax, fontsize, rot, grid, figsize, layout, return_type, **kwds)\u001b[0m\n\u001b[1;32m    383\u001b[0m     \u001b[0;32mimport\u001b[0m \u001b[0mmatplotlib\u001b[0m\u001b[0;34m.\u001b[0m\u001b[0mpyplot\u001b[0m \u001b[0;32mas\u001b[0m \u001b[0mplt\u001b[0m\u001b[0;34m\u001b[0m\u001b[0;34m\u001b[0m\u001b[0m\n\u001b[1;32m    384\u001b[0m \u001b[0;34m\u001b[0m\u001b[0m\n\u001b[0;32m--> 385\u001b[0;31m     ax = boxplot(\n\u001b[0m\u001b[1;32m    386\u001b[0m         \u001b[0mself\u001b[0m\u001b[0;34m,\u001b[0m\u001b[0;34m\u001b[0m\u001b[0;34m\u001b[0m\u001b[0m\n\u001b[1;32m    387\u001b[0m         \u001b[0mcolumn\u001b[0m\u001b[0;34m=\u001b[0m\u001b[0mcolumn\u001b[0m\u001b[0;34m,\u001b[0m\u001b[0;34m\u001b[0m\u001b[0;34m\u001b[0m\u001b[0m\n",
      "\u001b[0;32m~/anaconda3/lib/python3.8/site-packages/pandas/plotting/_matplotlib/boxplot.py\u001b[0m in \u001b[0;36mboxplot\u001b[0;34m(data, column, by, ax, fontsize, rot, grid, figsize, layout, return_type, **kwds)\u001b[0m\n\u001b[1;32m    360\u001b[0m             \u001b[0mcolumns\u001b[0m \u001b[0;34m=\u001b[0m \u001b[0mdata\u001b[0m\u001b[0;34m.\u001b[0m\u001b[0mcolumns\u001b[0m\u001b[0;34m\u001b[0m\u001b[0;34m\u001b[0m\u001b[0m\n\u001b[1;32m    361\u001b[0m         \u001b[0;32melse\u001b[0m\u001b[0;34m:\u001b[0m\u001b[0;34m\u001b[0m\u001b[0;34m\u001b[0m\u001b[0m\n\u001b[0;32m--> 362\u001b[0;31m             \u001b[0mdata\u001b[0m \u001b[0;34m=\u001b[0m \u001b[0mdata\u001b[0m\u001b[0;34m[\u001b[0m\u001b[0mcolumns\u001b[0m\u001b[0;34m]\u001b[0m\u001b[0;34m\u001b[0m\u001b[0;34m\u001b[0m\u001b[0m\n\u001b[0m\u001b[1;32m    363\u001b[0m \u001b[0;34m\u001b[0m\u001b[0m\n\u001b[1;32m    364\u001b[0m         \u001b[0mresult\u001b[0m \u001b[0;34m=\u001b[0m \u001b[0mplot_group\u001b[0m\u001b[0;34m(\u001b[0m\u001b[0mcolumns\u001b[0m\u001b[0;34m,\u001b[0m \u001b[0mdata\u001b[0m\u001b[0;34m.\u001b[0m\u001b[0mvalues\u001b[0m\u001b[0;34m.\u001b[0m\u001b[0mT\u001b[0m\u001b[0;34m,\u001b[0m \u001b[0max\u001b[0m\u001b[0;34m)\u001b[0m\u001b[0;34m\u001b[0m\u001b[0;34m\u001b[0m\u001b[0m\n",
      "\u001b[0;32m~/anaconda3/lib/python3.8/site-packages/pandas/core/frame.py\u001b[0m in \u001b[0;36m__getitem__\u001b[0;34m(self, key)\u001b[0m\n\u001b[1;32m   3028\u001b[0m             \u001b[0;32mif\u001b[0m \u001b[0mis_iterator\u001b[0m\u001b[0;34m(\u001b[0m\u001b[0mkey\u001b[0m\u001b[0;34m)\u001b[0m\u001b[0;34m:\u001b[0m\u001b[0;34m\u001b[0m\u001b[0;34m\u001b[0m\u001b[0m\n\u001b[1;32m   3029\u001b[0m                 \u001b[0mkey\u001b[0m \u001b[0;34m=\u001b[0m \u001b[0mlist\u001b[0m\u001b[0;34m(\u001b[0m\u001b[0mkey\u001b[0m\u001b[0;34m)\u001b[0m\u001b[0;34m\u001b[0m\u001b[0;34m\u001b[0m\u001b[0m\n\u001b[0;32m-> 3030\u001b[0;31m             \u001b[0mindexer\u001b[0m \u001b[0;34m=\u001b[0m \u001b[0mself\u001b[0m\u001b[0;34m.\u001b[0m\u001b[0mloc\u001b[0m\u001b[0;34m.\u001b[0m\u001b[0m_get_listlike_indexer\u001b[0m\u001b[0;34m(\u001b[0m\u001b[0mkey\u001b[0m\u001b[0;34m,\u001b[0m \u001b[0maxis\u001b[0m\u001b[0;34m=\u001b[0m\u001b[0;36m1\u001b[0m\u001b[0;34m,\u001b[0m \u001b[0mraise_missing\u001b[0m\u001b[0;34m=\u001b[0m\u001b[0;32mTrue\u001b[0m\u001b[0;34m)\u001b[0m\u001b[0;34m[\u001b[0m\u001b[0;36m1\u001b[0m\u001b[0;34m]\u001b[0m\u001b[0;34m\u001b[0m\u001b[0;34m\u001b[0m\u001b[0m\n\u001b[0m\u001b[1;32m   3031\u001b[0m \u001b[0;34m\u001b[0m\u001b[0m\n\u001b[1;32m   3032\u001b[0m         \u001b[0;31m# take() does not accept boolean indexers\u001b[0m\u001b[0;34m\u001b[0m\u001b[0;34m\u001b[0m\u001b[0;34m\u001b[0m\u001b[0m\n",
      "\u001b[0;32m~/anaconda3/lib/python3.8/site-packages/pandas/core/indexing.py\u001b[0m in \u001b[0;36m_get_listlike_indexer\u001b[0;34m(self, key, axis, raise_missing)\u001b[0m\n\u001b[1;32m   1264\u001b[0m             \u001b[0mkeyarr\u001b[0m\u001b[0;34m,\u001b[0m \u001b[0mindexer\u001b[0m\u001b[0;34m,\u001b[0m \u001b[0mnew_indexer\u001b[0m \u001b[0;34m=\u001b[0m \u001b[0max\u001b[0m\u001b[0;34m.\u001b[0m\u001b[0m_reindex_non_unique\u001b[0m\u001b[0;34m(\u001b[0m\u001b[0mkeyarr\u001b[0m\u001b[0;34m)\u001b[0m\u001b[0;34m\u001b[0m\u001b[0;34m\u001b[0m\u001b[0m\n\u001b[1;32m   1265\u001b[0m \u001b[0;34m\u001b[0m\u001b[0m\n\u001b[0;32m-> 1266\u001b[0;31m         \u001b[0mself\u001b[0m\u001b[0;34m.\u001b[0m\u001b[0m_validate_read_indexer\u001b[0m\u001b[0;34m(\u001b[0m\u001b[0mkeyarr\u001b[0m\u001b[0;34m,\u001b[0m \u001b[0mindexer\u001b[0m\u001b[0;34m,\u001b[0m \u001b[0maxis\u001b[0m\u001b[0;34m,\u001b[0m \u001b[0mraise_missing\u001b[0m\u001b[0;34m=\u001b[0m\u001b[0mraise_missing\u001b[0m\u001b[0;34m)\u001b[0m\u001b[0;34m\u001b[0m\u001b[0;34m\u001b[0m\u001b[0m\n\u001b[0m\u001b[1;32m   1267\u001b[0m         \u001b[0;32mreturn\u001b[0m \u001b[0mkeyarr\u001b[0m\u001b[0;34m,\u001b[0m \u001b[0mindexer\u001b[0m\u001b[0;34m\u001b[0m\u001b[0;34m\u001b[0m\u001b[0m\n\u001b[1;32m   1268\u001b[0m \u001b[0;34m\u001b[0m\u001b[0m\n",
      "\u001b[0;32m~/anaconda3/lib/python3.8/site-packages/pandas/core/indexing.py\u001b[0m in \u001b[0;36m_validate_read_indexer\u001b[0;34m(self, key, indexer, axis, raise_missing)\u001b[0m\n\u001b[1;32m   1306\u001b[0m             \u001b[0;32mif\u001b[0m \u001b[0mmissing\u001b[0m \u001b[0;34m==\u001b[0m \u001b[0mlen\u001b[0m\u001b[0;34m(\u001b[0m\u001b[0mindexer\u001b[0m\u001b[0;34m)\u001b[0m\u001b[0;34m:\u001b[0m\u001b[0;34m\u001b[0m\u001b[0;34m\u001b[0m\u001b[0m\n\u001b[1;32m   1307\u001b[0m                 \u001b[0maxis_name\u001b[0m \u001b[0;34m=\u001b[0m \u001b[0mself\u001b[0m\u001b[0;34m.\u001b[0m\u001b[0mobj\u001b[0m\u001b[0;34m.\u001b[0m\u001b[0m_get_axis_name\u001b[0m\u001b[0;34m(\u001b[0m\u001b[0maxis\u001b[0m\u001b[0;34m)\u001b[0m\u001b[0;34m\u001b[0m\u001b[0;34m\u001b[0m\u001b[0m\n\u001b[0;32m-> 1308\u001b[0;31m                 \u001b[0;32mraise\u001b[0m \u001b[0mKeyError\u001b[0m\u001b[0;34m(\u001b[0m\u001b[0;34mf\"None of [{key}] are in the [{axis_name}]\"\u001b[0m\u001b[0;34m)\u001b[0m\u001b[0;34m\u001b[0m\u001b[0;34m\u001b[0m\u001b[0m\n\u001b[0m\u001b[1;32m   1309\u001b[0m \u001b[0;34m\u001b[0m\u001b[0m\n\u001b[1;32m   1310\u001b[0m             \u001b[0max\u001b[0m \u001b[0;34m=\u001b[0m \u001b[0mself\u001b[0m\u001b[0;34m.\u001b[0m\u001b[0mobj\u001b[0m\u001b[0;34m.\u001b[0m\u001b[0m_get_axis\u001b[0m\u001b[0;34m(\u001b[0m\u001b[0maxis\u001b[0m\u001b[0;34m)\u001b[0m\u001b[0;34m\u001b[0m\u001b[0;34m\u001b[0m\u001b[0m\n",
      "\u001b[0;31mKeyError\u001b[0m: \"None of [Index(['total emp'], dtype='object')] are in the [columns]\""
     ]
    },
    {
     "data": {
      "image/png": "[encoded data removed]",
      "text/plain": [
       "<Figure size 432x288 with 1 Axes>"
      ]
     },
     "metadata": {
      "needs_background": "light"
     },
     "output_type": "display_data"
    }
   ],
   "source": [
    "df1.boxplot('total emp')"
   ]
  },
  {
   "cell_type": "code",
   "execution_count": null,
   "metadata": {},
   "outputs": [],
   "source": [
    "df1['company_age'] = df1['Founded'].apply(lambda x: 2022 - int(x) if x != -1 else -1)"
   ]
  },
  {
   "cell_type": "code",
   "execution_count": 324,
   "metadata": {},
   "outputs": [
    {
     "data": {
      "text/plain": [
       "-1      265\n",
       " 28      25\n",
       " 24      24\n",
       " 7       24\n",
       " 22      22\n",
       "       ... \n",
       " 116      1\n",
       " 117      1\n",
       " 120      1\n",
       " 121      1\n",
       " 352      1\n",
       "Name: company_age, Length: 115, dtype: int64"
      ]
     },
     "execution_count": 324,
     "metadata": {},
     "output_type": "execute_result"
    }
   ],
   "source": [
    "df1['company_age'].value_counts()"
   ]
  },
  {
   "cell_type": "code",
   "execution_count": 325,
   "metadata": {},
   "outputs": [
    {
     "data": {
      "text/plain": [
       "<AxesSubplot:>"
      ]
     },
     "execution_count": 325,
     "metadata": {},
     "output_type": "execute_result"
    },
    {
     "data": {
      "image/png": "[encoded data removed]",
      "text/plain": [
       "<Figure size 432x288 with 1 Axes>"
      ]
     },
     "metadata": {
      "needs_background": "light"
     },
     "output_type": "display_data"
    }
   ],
   "source": [
    "df1['company_age'].hist()"
   ]
  },
  {
   "cell_type": "code",
   "execution_count": 326,
   "metadata": {},
   "outputs": [
    {
     "data": {
      "text/plain": [
       "<AxesSubplot:>"
      ]
     },
     "execution_count": 326,
     "metadata": {},
     "output_type": "execute_result"
    },
    {
     "data": {
      "image/png": "[encoded data removed]",
      "text/plain": [
       "<Figure size 432x288 with 1 Axes>"
      ]
     },
     "metadata": {
      "needs_background": "light"
     },
     "output_type": "display_data"
    }
   ],
   "source": [
    "df1.boxplot('company_age')"
   ]
  },
  {
   "cell_type": "code",
   "execution_count": 327,
   "metadata": {
    "scrolled": true
   },
   "outputs": [
    {
     "ename": "KeyError",
     "evalue": "\"['total emp'] not in index\"",
     "output_type": "error",
     "traceback": [
      "\u001b[0;31m---------------------------------------------------------------------------\u001b[0m",
      "\u001b[0;31mKeyError\u001b[0m                                  Traceback (most recent call last)",
      "\u001b[0;32m<ipython-input-327-4480c6a811b4>\u001b[0m in \u001b[0;36m<module>\u001b[0;34m\u001b[0m\n\u001b[0;32m----> 1\u001b[0;31m \u001b[0mdf1\u001b[0m\u001b[0;34m[\u001b[0m\u001b[0midx\u001b[0m\u001b[0;34m]\u001b[0m\u001b[0;34m.\u001b[0m\u001b[0mcorr\u001b[0m\u001b[0;34m(\u001b[0m\u001b[0;34m)\u001b[0m\u001b[0;34m\u001b[0m\u001b[0;34m\u001b[0m\u001b[0m\n\u001b[0m",
      "\u001b[0;32m~/anaconda3/lib/python3.8/site-packages/pandas/core/frame.py\u001b[0m in \u001b[0;36m__getitem__\u001b[0;34m(self, key)\u001b[0m\n\u001b[1;32m   3028\u001b[0m             \u001b[0;32mif\u001b[0m \u001b[0mis_iterator\u001b[0m\u001b[0;34m(\u001b[0m\u001b[0mkey\u001b[0m\u001b[0;34m)\u001b[0m\u001b[0;34m:\u001b[0m\u001b[0;34m\u001b[0m\u001b[0;34m\u001b[0m\u001b[0m\n\u001b[1;32m   3029\u001b[0m                 \u001b[0mkey\u001b[0m \u001b[0;34m=\u001b[0m \u001b[0mlist\u001b[0m\u001b[0;34m(\u001b[0m\u001b[0mkey\u001b[0m\u001b[0;34m)\u001b[0m\u001b[0;34m\u001b[0m\u001b[0;34m\u001b[0m\u001b[0m\n\u001b[0;32m-> 3030\u001b[0;31m             \u001b[0mindexer\u001b[0m \u001b[0;34m=\u001b[0m \u001b[0mself\u001b[0m\u001b[0;34m.\u001b[0m\u001b[0mloc\u001b[0m\u001b[0;34m.\u001b[0m\u001b[0m_get_listlike_indexer\u001b[0m\u001b[0;34m(\u001b[0m\u001b[0mkey\u001b[0m\u001b[0;34m,\u001b[0m \u001b[0maxis\u001b[0m\u001b[0;34m=\u001b[0m\u001b[0;36m1\u001b[0m\u001b[0;34m,\u001b[0m \u001b[0mraise_missing\u001b[0m\u001b[0;34m=\u001b[0m\u001b[0;32mTrue\u001b[0m\u001b[0;34m)\u001b[0m\u001b[0;34m[\u001b[0m\u001b[0;36m1\u001b[0m\u001b[0;34m]\u001b[0m\u001b[0;34m\u001b[0m\u001b[0;34m\u001b[0m\u001b[0m\n\u001b[0m\u001b[1;32m   3031\u001b[0m \u001b[0;34m\u001b[0m\u001b[0m\n\u001b[1;32m   3032\u001b[0m         \u001b[0;31m# take() does not accept boolean indexers\u001b[0m\u001b[0;34m\u001b[0m\u001b[0;34m\u001b[0m\u001b[0;34m\u001b[0m\u001b[0m\n",
      "\u001b[0;32m~/anaconda3/lib/python3.8/site-packages/pandas/core/indexing.py\u001b[0m in \u001b[0;36m_get_listlike_indexer\u001b[0;34m(self, key, axis, raise_missing)\u001b[0m\n\u001b[1;32m   1264\u001b[0m             \u001b[0mkeyarr\u001b[0m\u001b[0;34m,\u001b[0m \u001b[0mindexer\u001b[0m\u001b[0;34m,\u001b[0m \u001b[0mnew_indexer\u001b[0m \u001b[0;34m=\u001b[0m \u001b[0max\u001b[0m\u001b[0;34m.\u001b[0m\u001b[0m_reindex_non_unique\u001b[0m\u001b[0;34m(\u001b[0m\u001b[0mkeyarr\u001b[0m\u001b[0;34m)\u001b[0m\u001b[0;34m\u001b[0m\u001b[0;34m\u001b[0m\u001b[0m\n\u001b[1;32m   1265\u001b[0m \u001b[0;34m\u001b[0m\u001b[0m\n\u001b[0;32m-> 1266\u001b[0;31m         \u001b[0mself\u001b[0m\u001b[0;34m.\u001b[0m\u001b[0m_validate_read_indexer\u001b[0m\u001b[0;34m(\u001b[0m\u001b[0mkeyarr\u001b[0m\u001b[0;34m,\u001b[0m \u001b[0mindexer\u001b[0m\u001b[0;34m,\u001b[0m \u001b[0maxis\u001b[0m\u001b[0;34m,\u001b[0m \u001b[0mraise_missing\u001b[0m\u001b[0;34m=\u001b[0m\u001b[0mraise_missing\u001b[0m\u001b[0;34m)\u001b[0m\u001b[0;34m\u001b[0m\u001b[0;34m\u001b[0m\u001b[0m\n\u001b[0m\u001b[1;32m   1267\u001b[0m         \u001b[0;32mreturn\u001b[0m \u001b[0mkeyarr\u001b[0m\u001b[0;34m,\u001b[0m \u001b[0mindexer\u001b[0m\u001b[0;34m\u001b[0m\u001b[0;34m\u001b[0m\u001b[0m\n\u001b[1;32m   1268\u001b[0m \u001b[0;34m\u001b[0m\u001b[0m\n",
      "\u001b[0;32m~/anaconda3/lib/python3.8/site-packages/pandas/core/indexing.py\u001b[0m in \u001b[0;36m_validate_read_indexer\u001b[0;34m(self, key, indexer, axis, raise_missing)\u001b[0m\n\u001b[1;32m   1314\u001b[0m             \u001b[0;32mif\u001b[0m \u001b[0mraise_missing\u001b[0m\u001b[0;34m:\u001b[0m\u001b[0;34m\u001b[0m\u001b[0;34m\u001b[0m\u001b[0m\n\u001b[1;32m   1315\u001b[0m                 \u001b[0mnot_found\u001b[0m \u001b[0;34m=\u001b[0m \u001b[0mlist\u001b[0m\u001b[0;34m(\u001b[0m\u001b[0mset\u001b[0m\u001b[0;34m(\u001b[0m\u001b[0mkey\u001b[0m\u001b[0;34m)\u001b[0m \u001b[0;34m-\u001b[0m \u001b[0mset\u001b[0m\u001b[0;34m(\u001b[0m\u001b[0max\u001b[0m\u001b[0;34m)\u001b[0m\u001b[0;34m)\u001b[0m\u001b[0;34m\u001b[0m\u001b[0;34m\u001b[0m\u001b[0m\n\u001b[0;32m-> 1316\u001b[0;31m                 \u001b[0;32mraise\u001b[0m \u001b[0mKeyError\u001b[0m\u001b[0;34m(\u001b[0m\u001b[0;34mf\"{not_found} not in index\"\u001b[0m\u001b[0;34m)\u001b[0m\u001b[0;34m\u001b[0m\u001b[0;34m\u001b[0m\u001b[0m\n\u001b[0m\u001b[1;32m   1317\u001b[0m \u001b[0;34m\u001b[0m\u001b[0m\n\u001b[1;32m   1318\u001b[0m             \u001b[0mnot_found\u001b[0m \u001b[0;34m=\u001b[0m \u001b[0mkey\u001b[0m\u001b[0;34m[\u001b[0m\u001b[0mmissing_mask\u001b[0m\u001b[0;34m]\u001b[0m\u001b[0;34m\u001b[0m\u001b[0;34m\u001b[0m\u001b[0m\n",
      "\u001b[0;31mKeyError\u001b[0m: \"['total emp'] not in index\""
     ]
    }
   ],
   "source": [
    "df1[idx].corr()"
   ]
  },
  {
   "cell_type": "code",
   "execution_count": 328,
   "metadata": {},
   "outputs": [
    {
     "ename": "KeyError",
     "evalue": "\"['total emp'] not in index\"",
     "output_type": "error",
     "traceback": [
      "\u001b[0;31m---------------------------------------------------------------------------\u001b[0m",
      "\u001b[0;31mKeyError\u001b[0m                                  Traceback (most recent call last)",
      "\u001b[0;32m<ipython-input-328-57396bffa8fc>\u001b[0m in \u001b[0;36m<module>\u001b[0;34m\u001b[0m\n\u001b[1;32m      1\u001b[0m \u001b[0mcmap\u001b[0m \u001b[0;34m=\u001b[0m \u001b[0msns\u001b[0m\u001b[0;34m.\u001b[0m\u001b[0mdiverging_palette\u001b[0m\u001b[0;34m(\u001b[0m\u001b[0;36m220\u001b[0m\u001b[0;34m,\u001b[0m \u001b[0;36m10\u001b[0m\u001b[0;34m,\u001b[0m \u001b[0mas_cmap\u001b[0m\u001b[0;34m=\u001b[0m\u001b[0;32mTrue\u001b[0m\u001b[0;34m)\u001b[0m\u001b[0;34m\u001b[0m\u001b[0;34m\u001b[0m\u001b[0m\n\u001b[0;32m----> 2\u001b[0;31m sns.heatmap(df1[idx].corr(),vmax=.3, center=0, cmap=cmap,\n\u001b[0m\u001b[1;32m      3\u001b[0m             square=True, linewidths=.5, cbar_kws={\"shrink\": .5})\n",
      "\u001b[0;32m~/anaconda3/lib/python3.8/site-packages/pandas/core/frame.py\u001b[0m in \u001b[0;36m__getitem__\u001b[0;34m(self, key)\u001b[0m\n\u001b[1;32m   3028\u001b[0m             \u001b[0;32mif\u001b[0m \u001b[0mis_iterator\u001b[0m\u001b[0;34m(\u001b[0m\u001b[0mkey\u001b[0m\u001b[0;34m)\u001b[0m\u001b[0;34m:\u001b[0m\u001b[0;34m\u001b[0m\u001b[0;34m\u001b[0m\u001b[0m\n\u001b[1;32m   3029\u001b[0m                 \u001b[0mkey\u001b[0m \u001b[0;34m=\u001b[0m \u001b[0mlist\u001b[0m\u001b[0;34m(\u001b[0m\u001b[0mkey\u001b[0m\u001b[0;34m)\u001b[0m\u001b[0;34m\u001b[0m\u001b[0;34m\u001b[0m\u001b[0m\n\u001b[0;32m-> 3030\u001b[0;31m             \u001b[0mindexer\u001b[0m \u001b[0;34m=\u001b[0m \u001b[0mself\u001b[0m\u001b[0;34m.\u001b[0m\u001b[0mloc\u001b[0m\u001b[0;34m.\u001b[0m\u001b[0m_get_listlike_indexer\u001b[0m\u001b[0;34m(\u001b[0m\u001b[0mkey\u001b[0m\u001b[0;34m,\u001b[0m \u001b[0maxis\u001b[0m\u001b[0;34m=\u001b[0m\u001b[0;36m1\u001b[0m\u001b[0;34m,\u001b[0m \u001b[0mraise_missing\u001b[0m\u001b[0;34m=\u001b[0m\u001b[0;32mTrue\u001b[0m\u001b[0;34m)\u001b[0m\u001b[0;34m[\u001b[0m\u001b[0;36m1\u001b[0m\u001b[0;34m]\u001b[0m\u001b[0;34m\u001b[0m\u001b[0;34m\u001b[0m\u001b[0m\n\u001b[0m\u001b[1;32m   3031\u001b[0m \u001b[0;34m\u001b[0m\u001b[0m\n\u001b[1;32m   3032\u001b[0m         \u001b[0;31m# take() does not accept boolean indexers\u001b[0m\u001b[0;34m\u001b[0m\u001b[0;34m\u001b[0m\u001b[0;34m\u001b[0m\u001b[0m\n",
      "\u001b[0;32m~/anaconda3/lib/python3.8/site-packages/pandas/core/indexing.py\u001b[0m in \u001b[0;36m_get_listlike_indexer\u001b[0;34m(self, key, axis, raise_missing)\u001b[0m\n\u001b[1;32m   1264\u001b[0m             \u001b[0mkeyarr\u001b[0m\u001b[0;34m,\u001b[0m \u001b[0mindexer\u001b[0m\u001b[0;34m,\u001b[0m \u001b[0mnew_indexer\u001b[0m \u001b[0;34m=\u001b[0m \u001b[0max\u001b[0m\u001b[0;34m.\u001b[0m\u001b[0m_reindex_non_unique\u001b[0m\u001b[0;34m(\u001b[0m\u001b[0mkeyarr\u001b[0m\u001b[0;34m)\u001b[0m\u001b[0;34m\u001b[0m\u001b[0;34m\u001b[0m\u001b[0m\n\u001b[1;32m   1265\u001b[0m \u001b[0;34m\u001b[0m\u001b[0m\n\u001b[0;32m-> 1266\u001b[0;31m         \u001b[0mself\u001b[0m\u001b[0;34m.\u001b[0m\u001b[0m_validate_read_indexer\u001b[0m\u001b[0;34m(\u001b[0m\u001b[0mkeyarr\u001b[0m\u001b[0;34m,\u001b[0m \u001b[0mindexer\u001b[0m\u001b[0;34m,\u001b[0m \u001b[0maxis\u001b[0m\u001b[0;34m,\u001b[0m \u001b[0mraise_missing\u001b[0m\u001b[0;34m=\u001b[0m\u001b[0mraise_missing\u001b[0m\u001b[0;34m)\u001b[0m\u001b[0;34m\u001b[0m\u001b[0;34m\u001b[0m\u001b[0m\n\u001b[0m\u001b[1;32m   1267\u001b[0m         \u001b[0;32mreturn\u001b[0m \u001b[0mkeyarr\u001b[0m\u001b[0;34m,\u001b[0m \u001b[0mindexer\u001b[0m\u001b[0;34m\u001b[0m\u001b[0;34m\u001b[0m\u001b[0m\n\u001b[1;32m   1268\u001b[0m \u001b[0;34m\u001b[0m\u001b[0m\n",
      "\u001b[0;32m~/anaconda3/lib/python3.8/site-packages/pandas/core/indexing.py\u001b[0m in \u001b[0;36m_validate_read_indexer\u001b[0;34m(self, key, indexer, axis, raise_missing)\u001b[0m\n\u001b[1;32m   1314\u001b[0m             \u001b[0;32mif\u001b[0m \u001b[0mraise_missing\u001b[0m\u001b[0;34m:\u001b[0m\u001b[0;34m\u001b[0m\u001b[0;34m\u001b[0m\u001b[0m\n\u001b[1;32m   1315\u001b[0m                 \u001b[0mnot_found\u001b[0m \u001b[0;34m=\u001b[0m \u001b[0mlist\u001b[0m\u001b[0;34m(\u001b[0m\u001b[0mset\u001b[0m\u001b[0;34m(\u001b[0m\u001b[0mkey\u001b[0m\u001b[0;34m)\u001b[0m \u001b[0;34m-\u001b[0m \u001b[0mset\u001b[0m\u001b[0;34m(\u001b[0m\u001b[0max\u001b[0m\u001b[0;34m)\u001b[0m\u001b[0;34m)\u001b[0m\u001b[0;34m\u001b[0m\u001b[0;34m\u001b[0m\u001b[0m\n\u001b[0;32m-> 1316\u001b[0;31m                 \u001b[0;32mraise\u001b[0m \u001b[0mKeyError\u001b[0m\u001b[0;34m(\u001b[0m\u001b[0;34mf\"{not_found} not in index\"\u001b[0m\u001b[0;34m)\u001b[0m\u001b[0;34m\u001b[0m\u001b[0;34m\u001b[0m\u001b[0m\n\u001b[0m\u001b[1;32m   1317\u001b[0m \u001b[0;34m\u001b[0m\u001b[0m\n\u001b[1;32m   1318\u001b[0m             \u001b[0mnot_found\u001b[0m \u001b[0;34m=\u001b[0m \u001b[0mkey\u001b[0m\u001b[0;34m[\u001b[0m\u001b[0mmissing_mask\u001b[0m\u001b[0;34m]\u001b[0m\u001b[0;34m\u001b[0m\u001b[0;34m\u001b[0m\u001b[0m\n",
      "\u001b[0;31mKeyError\u001b[0m: \"['total emp'] not in index\""
     ]
    }
   ],
   "source": [
    "cmap = sns.diverging_palette(220, 10, as_cmap=True)\n",
    "sns.heatmap(df1[idx].corr(),vmax=.3, center=0, cmap=cmap,\n",
    "            square=True, linewidths=.5, cbar_kws={\"shrink\": .5})"
   ]
  },
  {
   "cell_type": "code",
   "execution_count": 269,
   "metadata": {},
   "outputs": [],
   "source": [
    "idx = ['Rating', 'avg_salary', 'desc_len', 'company_age']"
   ]
  },
  {
   "cell_type": "code",
   "execution_count": 267,
   "metadata": {},
   "outputs": [],
   "source": [
    "df1 = df1.drop('total emp', axis=1)"
   ]
  },
  {
   "cell_type": "code",
   "execution_count": 268,
   "metadata": {},
   "outputs": [
    {
     "data": {
      "text/plain": [
       "Index(['Job Title', 'Salary Estimate', 'Job Description', 'Rating',\n",
       "       'Company Name', 'Location', 'Size', 'Founded', 'Type of ownership',\n",
       "       'Industry', 'Sector', 'Revenue', 'avg_salary', 'python_req', 'sql_req',\n",
       "       'Tensorflow_req', 'excel_req', 'cloud_req', 'jobs_grouped', 'level',\n",
       "       'desc_len', 'company_age'],\n",
       "      dtype='object')"
      ]
     },
     "execution_count": 268,
     "metadata": {},
     "output_type": "execute_result"
    }
   ],
   "source": [
    "df1.columns"
   ]
  },
  {
   "cell_type": "code",
   "execution_count": 272,
   "metadata": {},
   "outputs": [
    {
     "data": {
      "text/html": [
       "<div>\n",
       "<style scoped>\n",
       "    .dataframe tbody tr th:only-of-type {\n",
       "        vertical-align: middle;\n",
       "    }\n",
       "\n",
       "    .dataframe tbody tr th {\n",
       "        vertical-align: top;\n",
       "    }\n",
       "\n",
       "    .dataframe thead th {\n",
       "        text-align: right;\n",
       "    }\n",
       "</style>\n",
       "<table border=\"1\" class=\"dataframe\">\n",
       "  <thead>\n",
       "    <tr style=\"text-align: right;\">\n",
       "      <th></th>\n",
       "      <th>Rating</th>\n",
       "      <th>avg_salary</th>\n",
       "      <th>desc_len</th>\n",
       "      <th>company_age</th>\n",
       "    </tr>\n",
       "  </thead>\n",
       "  <tbody>\n",
       "    <tr>\n",
       "      <th>Rating</th>\n",
       "      <td>1.000000</td>\n",
       "      <td>-0.016148</td>\n",
       "      <td>0.116140</td>\n",
       "      <td>0.210311</td>\n",
       "    </tr>\n",
       "    <tr>\n",
       "      <th>avg_salary</th>\n",
       "      <td>-0.016148</td>\n",
       "      <td>1.000000</td>\n",
       "      <td>-0.005492</td>\n",
       "      <td>0.048368</td>\n",
       "    </tr>\n",
       "    <tr>\n",
       "      <th>desc_len</th>\n",
       "      <td>0.116140</td>\n",
       "      <td>-0.005492</td>\n",
       "      <td>1.000000</td>\n",
       "      <td>0.048144</td>\n",
       "    </tr>\n",
       "    <tr>\n",
       "      <th>company_age</th>\n",
       "      <td>0.210311</td>\n",
       "      <td>0.048368</td>\n",
       "      <td>0.048144</td>\n",
       "      <td>1.000000</td>\n",
       "    </tr>\n",
       "  </tbody>\n",
       "</table>\n",
       "</div>"
      ],
      "text/plain": [
       "               Rating  avg_salary  desc_len  company_age\n",
       "Rating       1.000000   -0.016148  0.116140     0.210311\n",
       "avg_salary  -0.016148    1.000000 -0.005492     0.048368\n",
       "desc_len     0.116140   -0.005492  1.000000     0.048144\n",
       "company_age  0.210311    0.048368  0.048144     1.000000"
      ]
     },
     "execution_count": 272,
     "metadata": {},
     "output_type": "execute_result"
    }
   ],
   "source": [
    "df1[idx].corr()"
   ]
  },
  {
   "cell_type": "code",
   "execution_count": 271,
   "metadata": {},
   "outputs": [
    {
     "data": {
      "text/plain": [
       "<AxesSubplot:>"
      ]
     },
     "execution_count": 271,
     "metadata": {},
     "output_type": "execute_result"
    },
    {
     "data": {
      "image/png": "[encoded data removed]",
      "text/plain": [
       "<Figure size 432x288 with 2 Axes>"
      ]
     },
     "metadata": {
      "needs_background": "light"
     },
     "output_type": "display_data"
    }
   ],
   "source": [
    "cmap = sns.diverging_palette(220, 10, as_cmap=True)\n",
    "sns.heatmap(df1[idx].corr(),vmax=.3, center=0, cmap=cmap,\n",
    "            square=True, linewidths=.5, cbar_kws={\"shrink\": .5})"
   ]
  },
  {
   "cell_type": "code",
   "execution_count": null,
   "metadata": {},
   "outputs": [],
   "source": []
  }
 ],
 "metadata": {
  "kernelspec": {
   "display_name": "Python 3",
   "language": "python",
   "name": "python3"
  },
  "language_info": {
   "codemirror_mode": {
    "name": "ipython",
    "version": 3
   },
   "file_extension": ".py",
   "mimetype": "text/x-python",
   "name": "python",
   "nbconvert_exporter": "python",
   "pygments_lexer": "ipython3",
   "version": "3.8.10"
  }
 },
 "nbformat": 4,
 "nbformat_minor": 4
}
