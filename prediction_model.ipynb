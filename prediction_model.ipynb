{
 "metadata": {
  "language_info": {
   "codemirror_mode": {
    "name": "ipython",
    "version": 3
   },
   "file_extension": ".py",
   "mimetype": "text/x-python",
   "name": "python",
   "nbconvert_exporter": "python",
   "pygments_lexer": "ipython3",
   "version": "3.8.10"
  },
  "orig_nbformat": 4,
  "kernelspec": {
   "name": "python3",
   "display_name": "Python 3.8.10 64-bit"
  },
  "interpreter": {
   "hash": "31f2aee4e71d21fbe5cf8b01ff0e069b9275f58929596ceb00d14d90e3e16cd6"
  }
 },
 "nbformat": 4,
 "nbformat_minor": 2,
 "cells": [
  {
   "cell_type": "code",
   "execution_count": 2,
   "metadata": {},
   "outputs": [],
   "source": [
    "import pandas as pd\n",
    "import numpy as np\n",
    "import matplotlib.pyplot as plt\n",
    "import warnings\n",
    "warnings.filterwarnings('ignore')\n",
    "\n",
    "%matplotlib inline"
   ]
  },
  {
   "cell_type": "code",
   "execution_count": 3,
   "metadata": {},
   "outputs": [
    {
     "output_type": "execute_result",
     "data": {
      "text/plain": [
       "   Unnamed: 0                          Job Title   Salary Estimate  \\\n",
       "0           0        Senior Python Data Engineer  433000 - 763000    \n",
       "1           1  Senior Big Data Engineer (Python)  433000 - 763000    \n",
       "2           2                     Data Scientist  433000 - 763000    \n",
       "3           3                     Data Scientist  433000 - 763000    \n",
       "4           4                     Data Scientist  433000 - 763000    \n",
       "\n",
       "                                     Job Description  Rating  \\\n",
       "0  StartUs Insights, an international data scienc...     4.6   \n",
       "1  StartUs Insights, an international data scienc...     4.6   \n",
       "2  About Us:\\nMobiKwik is India's largest indepen...     3.9   \n",
       "3  Ahmedabad\\nBe a part of the movement to revolu...    -1.0   \n",
       "4  Job Description\\n\\nOffice No.13, B1, Galaxy Si...     4.2   \n",
       "\n",
       "       Company Name   Location        Size  Founded  Type of ownership  ...  \\\n",
       "0  StartUs Insights     Remote     1 to 50     2014  Company - Private  ...   \n",
       "1  StartUs Insights     Remote     1 to 50     2014  Company - Private  ...   \n",
       "2          MobiKwik    Gurgaon  201 to 500     2009  Company - Private  ...   \n",
       "3           R3coder  Ahmedabad         NaN       -1                 -1  ...   \n",
       "4   Thomson Reuters  Ahmedabad       10000     2008   Company - Public  ...   \n",
       "\n",
       "  avg_salary python_req sql_req  Tensorflow_req  excel_req  cloud_req  \\\n",
       "0   598000.0          1       1               0          0          0   \n",
       "1   598000.0          1       1               0          0          0   \n",
       "2   598000.0          0       0               0          0          0   \n",
       "3   598000.0          0       0               0          0          0   \n",
       "4   598000.0          1       0               1          1          1   \n",
       "\n",
       "     jobs_grouped   level  desc_len company_age  \n",
       "0   data engineer  Senior       613           8  \n",
       "1   data engineer  Senior       613           8  \n",
       "2  data scientist    Misc      1830          13  \n",
       "3  data scientist    Misc       758          -1  \n",
       "4  data scientist    Misc      2446          14  \n",
       "\n",
       "[5 rows x 23 columns]"
      ],
      "text/html": "<div>\n<style scoped>\n    .dataframe tbody tr th:only-of-type {\n        vertical-align: middle;\n    }\n\n    .dataframe tbody tr th {\n        vertical-align: top;\n    }\n\n    .dataframe thead th {\n        text-align: right;\n    }\n</style>\n<table border=\"1\" class=\"dataframe\">\n  <thead>\n    <tr style=\"text-align: right;\">\n      <th></th>\n      <th>Unnamed: 0</th>\n      <th>Job Title</th>\n      <th>Salary Estimate</th>\n      <th>Job Description</th>\n      <th>Rating</th>\n      <th>Company Name</th>\n      <th>Location</th>\n      <th>Size</th>\n      <th>Founded</th>\n      <th>Type of ownership</th>\n      <th>...</th>\n      <th>avg_salary</th>\n      <th>python_req</th>\n      <th>sql_req</th>\n      <th>Tensorflow_req</th>\n      <th>excel_req</th>\n      <th>cloud_req</th>\n      <th>jobs_grouped</th>\n      <th>level</th>\n      <th>desc_len</th>\n      <th>company_age</th>\n    </tr>\n  </thead>\n  <tbody>\n    <tr>\n      <th>0</th>\n      <td>0</td>\n      <td>Senior Python Data Engineer</td>\n      <td>433000 - 763000</td>\n      <td>StartUs Insights, an international data scienc...</td>\n      <td>4.6</td>\n      <td>StartUs Insights</td>\n      <td>Remote</td>\n      <td>1 to 50</td>\n      <td>2014</td>\n      <td>Company - Private</td>\n      <td>...</td>\n      <td>598000.0</td>\n      <td>1</td>\n      <td>1</td>\n      <td>0</td>\n      <td>0</td>\n      <td>0</td>\n      <td>data engineer</td>\n      <td>Senior</td>\n      <td>613</td>\n      <td>8</td>\n    </tr>\n    <tr>\n      <th>1</th>\n      <td>1</td>\n      <td>Senior Big Data Engineer (Python)</td>\n      <td>433000 - 763000</td>\n      <td>StartUs Insights, an international data scienc...</td>\n      <td>4.6</td>\n      <td>StartUs Insights</td>\n      <td>Remote</td>\n      <td>1 to 50</td>\n      <td>2014</td>\n      <td>Company - Private</td>\n      <td>...</td>\n      <td>598000.0</td>\n      <td>1</td>\n      <td>1</td>\n      <td>0</td>\n      <td>0</td>\n      <td>0</td>\n      <td>data engineer</td>\n      <td>Senior</td>\n      <td>613</td>\n      <td>8</td>\n    </tr>\n    <tr>\n      <th>2</th>\n      <td>2</td>\n      <td>Data Scientist</td>\n      <td>433000 - 763000</td>\n      <td>About Us:\\nMobiKwik is India's largest indepen...</td>\n      <td>3.9</td>\n      <td>MobiKwik</td>\n      <td>Gurgaon</td>\n      <td>201 to 500</td>\n      <td>2009</td>\n      <td>Company - Private</td>\n      <td>...</td>\n      <td>598000.0</td>\n      <td>0</td>\n      <td>0</td>\n      <td>0</td>\n      <td>0</td>\n      <td>0</td>\n      <td>data scientist</td>\n      <td>Misc</td>\n      <td>1830</td>\n      <td>13</td>\n    </tr>\n    <tr>\n      <th>3</th>\n      <td>3</td>\n      <td>Data Scientist</td>\n      <td>433000 - 763000</td>\n      <td>Ahmedabad\\nBe a part of the movement to revolu...</td>\n      <td>-1.0</td>\n      <td>R3coder</td>\n      <td>Ahmedabad</td>\n      <td>NaN</td>\n      <td>-1</td>\n      <td>-1</td>\n      <td>...</td>\n      <td>598000.0</td>\n      <td>0</td>\n      <td>0</td>\n      <td>0</td>\n      <td>0</td>\n      <td>0</td>\n      <td>data scientist</td>\n      <td>Misc</td>\n      <td>758</td>\n      <td>-1</td>\n    </tr>\n    <tr>\n      <th>4</th>\n      <td>4</td>\n      <td>Data Scientist</td>\n      <td>433000 - 763000</td>\n      <td>Job Description\\n\\nOffice No.13, B1, Galaxy Si...</td>\n      <td>4.2</td>\n      <td>Thomson Reuters</td>\n      <td>Ahmedabad</td>\n      <td>10000</td>\n      <td>2008</td>\n      <td>Company - Public</td>\n      <td>...</td>\n      <td>598000.0</td>\n      <td>1</td>\n      <td>0</td>\n      <td>1</td>\n      <td>1</td>\n      <td>1</td>\n      <td>data scientist</td>\n      <td>Misc</td>\n      <td>2446</td>\n      <td>14</td>\n    </tr>\n  </tbody>\n</table>\n<p>5 rows × 23 columns</p>\n</div>"
     },
     "metadata": {},
     "execution_count": 3
    }
   ],
   "source": [
    "df = pd.read_csv('data_ready_for_Model.csv')\n",
    "df.head()"
   ]
  },
  {
   "cell_type": "code",
   "execution_count": 4,
   "metadata": {},
   "outputs": [
    {
     "output_type": "execute_result",
     "data": {
      "text/plain": [
       "                           Job Title   Salary Estimate  \\\n",
       "0        Senior Python Data Engineer  433000 - 763000    \n",
       "1  Senior Big Data Engineer (Python)  433000 - 763000    \n",
       "2                     Data Scientist  433000 - 763000    \n",
       "3                     Data Scientist  433000 - 763000    \n",
       "4                     Data Scientist  433000 - 763000    \n",
       "\n",
       "                                     Job Description  Rating  \\\n",
       "0  StartUs Insights, an international data scienc...     4.6   \n",
       "1  StartUs Insights, an international data scienc...     4.6   \n",
       "2  About Us:\\nMobiKwik is India's largest indepen...     3.9   \n",
       "3  Ahmedabad\\nBe a part of the movement to revolu...    -1.0   \n",
       "4  Job Description\\n\\nOffice No.13, B1, Galaxy Si...     4.2   \n",
       "\n",
       "       Company Name   Location        Size  Founded  Type of ownership  \\\n",
       "0  StartUs Insights     Remote     1 to 50     2014  Company - Private   \n",
       "1  StartUs Insights     Remote     1 to 50     2014  Company - Private   \n",
       "2          MobiKwik    Gurgaon  201 to 500     2009  Company - Private   \n",
       "3           R3coder  Ahmedabad         NaN       -1                 -1   \n",
       "4   Thomson Reuters  Ahmedabad       10000     2008   Company - Public   \n",
       "\n",
       "                                  Industry  ... avg_salary python_req  \\\n",
       "0                                 Internet  ...   598000.0          1   \n",
       "1                                 Internet  ...   598000.0          1   \n",
       "2         Financial Transaction Processing  ...   598000.0          0   \n",
       "3                                       -1  ...   598000.0          0   \n",
       "4  Enterprise Software & Network Solutions  ...   598000.0          1   \n",
       "\n",
       "   sql_req  Tensorflow_req  excel_req  cloud_req    jobs_grouped   level  \\\n",
       "0        1               0          0          0   data engineer  Senior   \n",
       "1        1               0          0          0   data engineer  Senior   \n",
       "2        0               0          0          0  data scientist    Misc   \n",
       "3        0               0          0          0  data scientist    Misc   \n",
       "4        0               1          1          1  data scientist    Misc   \n",
       "\n",
       "  desc_len company_age  \n",
       "0      613           8  \n",
       "1      613           8  \n",
       "2     1830          13  \n",
       "3      758          -1  \n",
       "4     2446          14  \n",
       "\n",
       "[5 rows x 22 columns]"
      ],
      "text/html": "<div>\n<style scoped>\n    .dataframe tbody tr th:only-of-type {\n        vertical-align: middle;\n    }\n\n    .dataframe tbody tr th {\n        vertical-align: top;\n    }\n\n    .dataframe thead th {\n        text-align: right;\n    }\n</style>\n<table border=\"1\" class=\"dataframe\">\n  <thead>\n    <tr style=\"text-align: right;\">\n      <th></th>\n      <th>Job Title</th>\n      <th>Salary Estimate</th>\n      <th>Job Description</th>\n      <th>Rating</th>\n      <th>Company Name</th>\n      <th>Location</th>\n      <th>Size</th>\n      <th>Founded</th>\n      <th>Type of ownership</th>\n      <th>Industry</th>\n      <th>...</th>\n      <th>avg_salary</th>\n      <th>python_req</th>\n      <th>sql_req</th>\n      <th>Tensorflow_req</th>\n      <th>excel_req</th>\n      <th>cloud_req</th>\n      <th>jobs_grouped</th>\n      <th>level</th>\n      <th>desc_len</th>\n      <th>company_age</th>\n    </tr>\n  </thead>\n  <tbody>\n    <tr>\n      <th>0</th>\n      <td>Senior Python Data Engineer</td>\n      <td>433000 - 763000</td>\n      <td>StartUs Insights, an international data scienc...</td>\n      <td>4.6</td>\n      <td>StartUs Insights</td>\n      <td>Remote</td>\n      <td>1 to 50</td>\n      <td>2014</td>\n      <td>Company - Private</td>\n      <td>Internet</td>\n      <td>...</td>\n      <td>598000.0</td>\n      <td>1</td>\n      <td>1</td>\n      <td>0</td>\n      <td>0</td>\n      <td>0</td>\n      <td>data engineer</td>\n      <td>Senior</td>\n      <td>613</td>\n      <td>8</td>\n    </tr>\n    <tr>\n      <th>1</th>\n      <td>Senior Big Data Engineer (Python)</td>\n      <td>433000 - 763000</td>\n      <td>StartUs Insights, an international data scienc...</td>\n      <td>4.6</td>\n      <td>StartUs Insights</td>\n      <td>Remote</td>\n      <td>1 to 50</td>\n      <td>2014</td>\n      <td>Company - Private</td>\n      <td>Internet</td>\n      <td>...</td>\n      <td>598000.0</td>\n      <td>1</td>\n      <td>1</td>\n      <td>0</td>\n      <td>0</td>\n      <td>0</td>\n      <td>data engineer</td>\n      <td>Senior</td>\n      <td>613</td>\n      <td>8</td>\n    </tr>\n    <tr>\n      <th>2</th>\n      <td>Data Scientist</td>\n      <td>433000 - 763000</td>\n      <td>About Us:\\nMobiKwik is India's largest indepen...</td>\n      <td>3.9</td>\n      <td>MobiKwik</td>\n      <td>Gurgaon</td>\n      <td>201 to 500</td>\n      <td>2009</td>\n      <td>Company - Private</td>\n      <td>Financial Transaction Processing</td>\n      <td>...</td>\n      <td>598000.0</td>\n      <td>0</td>\n      <td>0</td>\n      <td>0</td>\n      <td>0</td>\n      <td>0</td>\n      <td>data scientist</td>\n      <td>Misc</td>\n      <td>1830</td>\n      <td>13</td>\n    </tr>\n    <tr>\n      <th>3</th>\n      <td>Data Scientist</td>\n      <td>433000 - 763000</td>\n      <td>Ahmedabad\\nBe a part of the movement to revolu...</td>\n      <td>-1.0</td>\n      <td>R3coder</td>\n      <td>Ahmedabad</td>\n      <td>NaN</td>\n      <td>-1</td>\n      <td>-1</td>\n      <td>-1</td>\n      <td>...</td>\n      <td>598000.0</td>\n      <td>0</td>\n      <td>0</td>\n      <td>0</td>\n      <td>0</td>\n      <td>0</td>\n      <td>data scientist</td>\n      <td>Misc</td>\n      <td>758</td>\n      <td>-1</td>\n    </tr>\n    <tr>\n      <th>4</th>\n      <td>Data Scientist</td>\n      <td>433000 - 763000</td>\n      <td>Job Description\\n\\nOffice No.13, B1, Galaxy Si...</td>\n      <td>4.2</td>\n      <td>Thomson Reuters</td>\n      <td>Ahmedabad</td>\n      <td>10000</td>\n      <td>2008</td>\n      <td>Company - Public</td>\n      <td>Enterprise Software &amp; Network Solutions</td>\n      <td>...</td>\n      <td>598000.0</td>\n      <td>1</td>\n      <td>0</td>\n      <td>1</td>\n      <td>1</td>\n      <td>1</td>\n      <td>data scientist</td>\n      <td>Misc</td>\n      <td>2446</td>\n      <td>14</td>\n    </tr>\n  </tbody>\n</table>\n<p>5 rows × 22 columns</p>\n</div>"
     },
     "metadata": {},
     "execution_count": 4
    }
   ],
   "source": [
    "df = df.drop('Unnamed: 0',axis =1)\n",
    "df.head()"
   ]
  },
  {
   "cell_type": "code",
   "execution_count": 5,
   "metadata": {},
   "outputs": [
    {
     "output_type": "execute_result",
     "data": {
      "text/plain": [
       "Index(['Job Title', 'Salary Estimate', 'Job Description', 'Rating',\n",
       "       'Company Name', 'Location', 'Size', 'Founded', 'Type of ownership',\n",
       "       'Industry', 'Sector', 'Revenue', 'avg_salary', 'python_req', 'sql_req',\n",
       "       'Tensorflow_req', 'excel_req', 'cloud_req', 'jobs_grouped', 'level',\n",
       "       'desc_len', 'company_age'],\n",
       "      dtype='object')"
      ]
     },
     "metadata": {},
     "execution_count": 5
    }
   ],
   "source": [
    "df.columns"
   ]
  },
  {
   "cell_type": "code",
   "execution_count": 6,
   "metadata": {},
   "outputs": [],
   "source": [
    "model_data = df[['avg_salary','Rating','Size','Type of ownership','Industry','Sector','Revenue','Location','company_age','python_req','Tensorflow_req','sql_req','excel_req','cloud_req','jobs_grouped','level','desc_len']]"
   ]
  },
  {
   "cell_type": "code",
   "execution_count": 7,
   "metadata": {},
   "outputs": [
    {
     "output_type": "execute_result",
     "data": {
      "text/plain": [
       "     avg_salary  Rating  company_age  python_req  Tensorflow_req  sql_req  \\\n",
       "0      598000.0     4.6            8           1               0        1   \n",
       "1      598000.0     4.6            8           1               0        1   \n",
       "2      598000.0     3.9           13           0               0        0   \n",
       "3      598000.0    -1.0           -1           0               0        0   \n",
       "4      598000.0     4.2           14           1               1        0   \n",
       "..          ...     ...          ...         ...             ...      ...   \n",
       "861    705000.0     4.3           -1           0               0        1   \n",
       "862    705000.0     3.0           -1           0               0        0   \n",
       "863    705000.0     3.9           13           0               0        0   \n",
       "864    705000.0     3.6           -1           0               0        1   \n",
       "865    705000.0     2.9           12           1               0        1   \n",
       "\n",
       "     excel_req  cloud_req  desc_len  Size_1 to 50  ...  jobs_grouped_Misc  \\\n",
       "0            0          0       613             1  ...                  0   \n",
       "1            0          0       613             1  ...                  0   \n",
       "2            0          0      1830             0  ...                  0   \n",
       "3            0          0       758             0  ...                  0   \n",
       "4            1          1      2446             0  ...                  0   \n",
       "..         ...        ...       ...           ...  ...                ...   \n",
       "861          1          0      1413             1  ...                  0   \n",
       "862          0          0       844             1  ...                  0   \n",
       "863          0          0       721             0  ...                  0   \n",
       "864          0          0       531             0  ...                  0   \n",
       "865          1          0      1129             1  ...                  0   \n",
       "\n",
       "     jobs_grouped_analyst  jobs_grouped_data engineer  \\\n",
       "0                       0                           1   \n",
       "1                       0                           1   \n",
       "2                       0                           0   \n",
       "3                       0                           0   \n",
       "4                       0                           0   \n",
       "..                    ...                         ...   \n",
       "861                     1                           0   \n",
       "862                     0                           1   \n",
       "863                     1                           0   \n",
       "864                     0                           1   \n",
       "865                     0                           1   \n",
       "\n",
       "     jobs_grouped_data scientist  jobs_grouped_director  jobs_grouped_manager  \\\n",
       "0                              0                      0                     0   \n",
       "1                              0                      0                     0   \n",
       "2                              1                      0                     0   \n",
       "3                              1                      0                     0   \n",
       "4                              1                      0                     0   \n",
       "..                           ...                    ...                   ...   \n",
       "861                            0                      0                     0   \n",
       "862                            0                      0                     0   \n",
       "863                            0                      0                     0   \n",
       "864                            0                      0                     0   \n",
       "865                            0                      0                     0   \n",
       "\n",
       "     jobs_grouped_mle  level_Junior  level_Misc  level_Senior  \n",
       "0                   0             0           0             1  \n",
       "1                   0             0           0             1  \n",
       "2                   0             0           1             0  \n",
       "3                   0             0           1             0  \n",
       "4                   0             0           1             0  \n",
       "..                ...           ...         ...           ...  \n",
       "861                 0             0           0             1  \n",
       "862                 0             0           1             0  \n",
       "863                 0             0           0             1  \n",
       "864                 0             0           1             0  \n",
       "865                 0             0           1             0  \n",
       "\n",
       "[866 rows x 172 columns]"
      ],
      "text/html": "<div>\n<style scoped>\n    .dataframe tbody tr th:only-of-type {\n        vertical-align: middle;\n    }\n\n    .dataframe tbody tr th {\n        vertical-align: top;\n    }\n\n    .dataframe thead th {\n        text-align: right;\n    }\n</style>\n<table border=\"1\" class=\"dataframe\">\n  <thead>\n    <tr style=\"text-align: right;\">\n      <th></th>\n      <th>avg_salary</th>\n      <th>Rating</th>\n      <th>company_age</th>\n      <th>python_req</th>\n      <th>Tensorflow_req</th>\n      <th>sql_req</th>\n      <th>excel_req</th>\n      <th>cloud_req</th>\n      <th>desc_len</th>\n      <th>Size_1 to 50</th>\n      <th>...</th>\n      <th>jobs_grouped_Misc</th>\n      <th>jobs_grouped_analyst</th>\n      <th>jobs_grouped_data engineer</th>\n      <th>jobs_grouped_data scientist</th>\n      <th>jobs_grouped_director</th>\n      <th>jobs_grouped_manager</th>\n      <th>jobs_grouped_mle</th>\n      <th>level_Junior</th>\n      <th>level_Misc</th>\n      <th>level_Senior</th>\n    </tr>\n  </thead>\n  <tbody>\n    <tr>\n      <th>0</th>\n      <td>598000.0</td>\n      <td>4.6</td>\n      <td>8</td>\n      <td>1</td>\n      <td>0</td>\n      <td>1</td>\n      <td>0</td>\n      <td>0</td>\n      <td>613</td>\n      <td>1</td>\n      <td>...</td>\n      <td>0</td>\n      <td>0</td>\n      <td>1</td>\n      <td>0</td>\n      <td>0</td>\n      <td>0</td>\n      <td>0</td>\n      <td>0</td>\n      <td>0</td>\n      <td>1</td>\n    </tr>\n    <tr>\n      <th>1</th>\n      <td>598000.0</td>\n      <td>4.6</td>\n      <td>8</td>\n      <td>1</td>\n      <td>0</td>\n      <td>1</td>\n      <td>0</td>\n      <td>0</td>\n      <td>613</td>\n      <td>1</td>\n      <td>...</td>\n      <td>0</td>\n      <td>0</td>\n      <td>1</td>\n      <td>0</td>\n      <td>0</td>\n      <td>0</td>\n      <td>0</td>\n      <td>0</td>\n      <td>0</td>\n      <td>1</td>\n    </tr>\n    <tr>\n      <th>2</th>\n      <td>598000.0</td>\n      <td>3.9</td>\n      <td>13</td>\n      <td>0</td>\n      <td>0</td>\n      <td>0</td>\n      <td>0</td>\n      <td>0</td>\n      <td>1830</td>\n      <td>0</td>\n      <td>...</td>\n      <td>0</td>\n      <td>0</td>\n      <td>0</td>\n      <td>1</td>\n      <td>0</td>\n      <td>0</td>\n      <td>0</td>\n      <td>0</td>\n      <td>1</td>\n      <td>0</td>\n    </tr>\n    <tr>\n      <th>3</th>\n      <td>598000.0</td>\n      <td>-1.0</td>\n      <td>-1</td>\n      <td>0</td>\n      <td>0</td>\n      <td>0</td>\n      <td>0</td>\n      <td>0</td>\n      <td>758</td>\n      <td>0</td>\n      <td>...</td>\n      <td>0</td>\n      <td>0</td>\n      <td>0</td>\n      <td>1</td>\n      <td>0</td>\n      <td>0</td>\n      <td>0</td>\n      <td>0</td>\n      <td>1</td>\n      <td>0</td>\n    </tr>\n    <tr>\n      <th>4</th>\n      <td>598000.0</td>\n      <td>4.2</td>\n      <td>14</td>\n      <td>1</td>\n      <td>1</td>\n      <td>0</td>\n      <td>1</td>\n      <td>1</td>\n      <td>2446</td>\n      <td>0</td>\n      <td>...</td>\n      <td>0</td>\n      <td>0</td>\n      <td>0</td>\n      <td>1</td>\n      <td>0</td>\n      <td>0</td>\n      <td>0</td>\n      <td>0</td>\n      <td>1</td>\n      <td>0</td>\n    </tr>\n    <tr>\n      <th>...</th>\n      <td>...</td>\n      <td>...</td>\n      <td>...</td>\n      <td>...</td>\n      <td>...</td>\n      <td>...</td>\n      <td>...</td>\n      <td>...</td>\n      <td>...</td>\n      <td>...</td>\n      <td>...</td>\n      <td>...</td>\n      <td>...</td>\n      <td>...</td>\n      <td>...</td>\n      <td>...</td>\n      <td>...</td>\n      <td>...</td>\n      <td>...</td>\n      <td>...</td>\n      <td>...</td>\n    </tr>\n    <tr>\n      <th>861</th>\n      <td>705000.0</td>\n      <td>4.3</td>\n      <td>-1</td>\n      <td>0</td>\n      <td>0</td>\n      <td>1</td>\n      <td>1</td>\n      <td>0</td>\n      <td>1413</td>\n      <td>1</td>\n      <td>...</td>\n      <td>0</td>\n      <td>1</td>\n      <td>0</td>\n      <td>0</td>\n      <td>0</td>\n      <td>0</td>\n      <td>0</td>\n      <td>0</td>\n      <td>0</td>\n      <td>1</td>\n    </tr>\n    <tr>\n      <th>862</th>\n      <td>705000.0</td>\n      <td>3.0</td>\n      <td>-1</td>\n      <td>0</td>\n      <td>0</td>\n      <td>0</td>\n      <td>0</td>\n      <td>0</td>\n      <td>844</td>\n      <td>1</td>\n      <td>...</td>\n      <td>0</td>\n      <td>0</td>\n      <td>1</td>\n      <td>0</td>\n      <td>0</td>\n      <td>0</td>\n      <td>0</td>\n      <td>0</td>\n      <td>1</td>\n      <td>0</td>\n    </tr>\n    <tr>\n      <th>863</th>\n      <td>705000.0</td>\n      <td>3.9</td>\n      <td>13</td>\n      <td>0</td>\n      <td>0</td>\n      <td>0</td>\n      <td>0</td>\n      <td>0</td>\n      <td>721</td>\n      <td>0</td>\n      <td>...</td>\n      <td>0</td>\n      <td>1</td>\n      <td>0</td>\n      <td>0</td>\n      <td>0</td>\n      <td>0</td>\n      <td>0</td>\n      <td>0</td>\n      <td>0</td>\n      <td>1</td>\n    </tr>\n    <tr>\n      <th>864</th>\n      <td>705000.0</td>\n      <td>3.6</td>\n      <td>-1</td>\n      <td>0</td>\n      <td>0</td>\n      <td>1</td>\n      <td>0</td>\n      <td>0</td>\n      <td>531</td>\n      <td>0</td>\n      <td>...</td>\n      <td>0</td>\n      <td>0</td>\n      <td>1</td>\n      <td>0</td>\n      <td>0</td>\n      <td>0</td>\n      <td>0</td>\n      <td>0</td>\n      <td>1</td>\n      <td>0</td>\n    </tr>\n    <tr>\n      <th>865</th>\n      <td>705000.0</td>\n      <td>2.9</td>\n      <td>12</td>\n      <td>1</td>\n      <td>0</td>\n      <td>1</td>\n      <td>1</td>\n      <td>0</td>\n      <td>1129</td>\n      <td>1</td>\n      <td>...</td>\n      <td>0</td>\n      <td>0</td>\n      <td>1</td>\n      <td>0</td>\n      <td>0</td>\n      <td>0</td>\n      <td>0</td>\n      <td>0</td>\n      <td>1</td>\n      <td>0</td>\n    </tr>\n  </tbody>\n</table>\n<p>866 rows × 172 columns</p>\n</div>"
     },
     "metadata": {},
     "execution_count": 7
    }
   ],
   "source": [
    "dum_data = pd.get_dummies(model_data)\n",
    "dum_data"
   ]
  },
  {
   "cell_type": "code",
   "execution_count": 8,
   "metadata": {},
   "outputs": [],
   "source": [
    "from sklearn.model_selection import train_test_split\n",
    "\n",
    "x = dum_data.drop('avg_salary', axis =1)\n",
    "y = dum_data['avg_salary'].values\n",
    "\n",
    "x_train, x_test, y_train, y_test = train_test_split(x, y, test_size=0.2, random_state=42)"
   ]
  },
  {
   "cell_type": "code",
   "execution_count": 9,
   "metadata": {},
   "outputs": [
    {
     "output_type": "execute_result",
     "data": {
      "text/plain": [
       "-2502213211446.0815"
      ]
     },
     "metadata": {},
     "execution_count": 9
    }
   ],
   "source": [
    "from sklearn.linear_model import LinearRegression, Lasso\n",
    "from sklearn.model_selection import cross_val_score\n",
    "\n",
    "model_lr = LinearRegression()\n",
    "model_lr.fit(x_train, y_train)\n",
    "\n",
    "np.mean(cross_val_score(model_lr,x_train,y_train, scoring = 'neg_mean_absolute_error', cv= 5))"
   ]
  },
  {
   "cell_type": "code",
   "execution_count": 10,
   "metadata": {},
   "outputs": [
    {
     "output_type": "execute_result",
     "data": {
      "text/plain": [
       "-113273.89095072635"
      ]
     },
     "metadata": {},
     "execution_count": 10
    }
   ],
   "source": [
    "model_l = Lasso(alpha=.13)\n",
    "model_l.fit(x_train,y_train)\n",
    "np.mean(cross_val_score(model_l,x_train,y_train, scoring = 'neg_mean_absolute_error', cv= 5))"
   ]
  },
  {
   "cell_type": "code",
   "execution_count": 11,
   "metadata": {},
   "outputs": [
    {
     "output_type": "execute_result",
     "data": {
      "text/plain": [
       "-108387.27322839914"
      ]
     },
     "metadata": {},
     "execution_count": 11
    }
   ],
   "source": [
    "from sklearn.linear_model import Ridge\n",
    "clf = Ridge(alpha=1.0)\n",
    "clf.fit(x_train, y_train)\n",
    "np.mean(cross_val_score(clf,x_train,y_train, scoring = 'neg_mean_absolute_error', cv= 5))"
   ]
  },
  {
   "cell_type": "code",
   "execution_count": 12,
   "metadata": {},
   "outputs": [
    {
     "output_type": "execute_result",
     "data": {
      "text/plain": [
       "-107247.37204913567"
      ]
     },
     "metadata": {},
     "execution_count": 12
    }
   ],
   "source": [
    "from sklearn.ensemble import RandomForestRegressor\n",
    "rf = RandomForestRegressor()\n",
    "\n",
    "np.mean(cross_val_score(rf,x_train,y_train,scoring = 'neg_mean_absolute_error', cv= 5))"
   ]
  },
  {
   "cell_type": "code",
   "execution_count": 13,
   "metadata": {},
   "outputs": [
    {
     "output_type": "stream",
     "name": "stdout",
     "text": [
      "Best Score: -99652.45529832486\nBest Estimator: RandomForestRegressor(criterion='mae', max_depth=4, max_features='log2',\n                      min_samples_leaf=2, min_samples_split=8, n_estimators=10)\nBest Parameter: {'criterion': 'mae', 'max_depth': 4, 'max_features': 'log2', 'min_samples_leaf': 2, 'min_samples_split': 8, 'n_estimators': 10}\n"
     ]
    }
   ],
   "source": [
    "from sklearn.model_selection import GridSearchCV\n",
    "\n",
    "parameters = {'criterion' : ['mse','mae'], 'max_depth' : [2, 4, 6, 8], 'n_estimators' : [10,150,300],'max_features':['auto','sqrt','log2'],'min_samples_split':[2, 4, 6, 8], 'min_samples_leaf' : [2, 3, 5, 7]}\n",
    "gs = GridSearchCV(rf,parameters,scoring='neg_mean_absolute_error',cv=3,n_jobs= -1)\n",
    "gs.fit(x_train,y_train)\n",
    "\n",
    "print(\"Best Score:\",gs.best_score_)\n",
    "print(\"Best Estimator:\",gs.best_estimator_)\n",
    "print(\"Best Parameter:\",gs.best_params_)"
   ]
  },
  {
   "cell_type": "code",
   "execution_count": 14,
   "metadata": {},
   "outputs": [],
   "source": [
    "pred_lr = model_lr.predict(x_test)\n",
    "pred_l = model_l.predict(x_test)\n",
    "pred_R = clf.predict(x_test)\n",
    "pred_rf = gs.best_estimator_.predict(x_test)"
   ]
  },
  {
   "cell_type": "code",
   "execution_count": 15,
   "metadata": {},
   "outputs": [
    {
     "output_type": "stream",
     "name": "stdout",
     "text": [
      "MAE for linear model: 134971215.40405548\nMAE for lasso model: 0.9830586871926473\nMAE for ridge model: 0.9562325629423063\nMAE for Random Forest after hyper tunnig: 0.8873793103448275\n"
     ]
    }
   ],
   "source": [
    "from sklearn.metrics import mean_absolute_error\n",
    "\n",
    "print(\"MAE for linear model:\",mean_absolute_error(y_test,pred_lr)/100000)\n",
    "print(\"MAE for lasso model:\",mean_absolute_error(y_test,pred_l)/100000)\n",
    "print(\"MAE for ridge model:\",mean_absolute_error(y_test,pred_R)/100000)\n",
    "print(\"MAE for Random Forest after hyper tunnig:\",mean_absolute_error(y_test,pred_rf)/100000)\n",
    "\n",
    "\n",
    "#print(mean_absolute_error(y_test,(tpred_lm+tpred_rf)/2))"
   ]
  },
  {
   "cell_type": "code",
   "execution_count": 16,
   "metadata": {},
   "outputs": [
    {
     "output_type": "execute_result",
     "data": {
      "text/plain": [
       "[4.4,\n",
       " 4.0,\n",
       " 0.0,\n",
       " 0.0,\n",
       " 0.0,\n",
       " 0.0,\n",
       " 0.0,\n",
       " 496.0,\n",
       " 1.0,\n",
       " 0.0,\n",
       " 0.0,\n",
       " 0.0,\n",
       " 0.0,\n",
       " 0.0,\n",
       " 0.0,\n",
       " 0.0,\n",
       " 1.0,\n",
       " 0.0,\n",
       " 0.0,\n",
       " 0.0,\n",
       " 0.0,\n",
       " 0.0,\n",
       " 0.0,\n",
       " 0.0,\n",
       " 0.0,\n",
       " 0.0,\n",
       " 0.0,\n",
       " 0.0,\n",
       " 0.0,\n",
       " 0.0,\n",
       " 0.0,\n",
       " 0.0,\n",
       " 0.0,\n",
       " 0.0,\n",
       " 0.0,\n",
       " 0.0,\n",
       " 0.0,\n",
       " 0.0,\n",
       " 0.0,\n",
       " 0.0,\n",
       " 0.0,\n",
       " 0.0,\n",
       " 0.0,\n",
       " 0.0,\n",
       " 0.0,\n",
       " 0.0,\n",
       " 0.0,\n",
       " 0.0,\n",
       " 0.0,\n",
       " 0.0,\n",
       " 0.0,\n",
       " 0.0,\n",
       " 1.0,\n",
       " 0.0,\n",
       " 0.0,\n",
       " 0.0,\n",
       " 0.0,\n",
       " 0.0,\n",
       " 0.0,\n",
       " 0.0,\n",
       " 0.0,\n",
       " 0.0,\n",
       " 0.0,\n",
       " 0.0,\n",
       " 0.0,\n",
       " 0.0,\n",
       " 0.0,\n",
       " 0.0,\n",
       " 0.0,\n",
       " 0.0,\n",
       " 0.0,\n",
       " 0.0,\n",
       " 0.0,\n",
       " 0.0,\n",
       " 0.0,\n",
       " 0.0,\n",
       " 0.0,\n",
       " 0.0,\n",
       " 0.0,\n",
       " 0.0,\n",
       " 0.0,\n",
       " 0.0,\n",
       " 0.0,\n",
       " 0.0,\n",
       " 0.0,\n",
       " 0.0,\n",
       " 0.0,\n",
       " 0.0,\n",
       " 0.0,\n",
       " 0.0,\n",
       " 0.0,\n",
       " 0.0,\n",
       " 0.0,\n",
       " 0.0,\n",
       " 0.0,\n",
       " 0.0,\n",
       " 0.0,\n",
       " 1.0,\n",
       " 0.0,\n",
       " 0.0,\n",
       " 0.0,\n",
       " 0.0,\n",
       " 0.0,\n",
       " 0.0,\n",
       " 0.0,\n",
       " 0.0,\n",
       " 0.0,\n",
       " 0.0,\n",
       " 0.0,\n",
       " 0.0,\n",
       " 0.0,\n",
       " 0.0,\n",
       " 0.0,\n",
       " 0.0,\n",
       " 0.0,\n",
       " 0.0,\n",
       " 0.0,\n",
       " 0.0,\n",
       " 0.0,\n",
       " 0.0,\n",
       " 0.0,\n",
       " 1.0,\n",
       " 0.0,\n",
       " 0.0,\n",
       " 0.0,\n",
       " 0.0,\n",
       " 0.0,\n",
       " 0.0,\n",
       " 0.0,\n",
       " 0.0,\n",
       " 0.0,\n",
       " 0.0,\n",
       " 0.0,\n",
       " 0.0,\n",
       " 0.0,\n",
       " 0.0,\n",
       " 1.0,\n",
       " 0.0,\n",
       " 0.0,\n",
       " 0.0,\n",
       " 0.0,\n",
       " 0.0,\n",
       " 0.0,\n",
       " 0.0,\n",
       " 0.0,\n",
       " 0.0,\n",
       " 0.0,\n",
       " 0.0,\n",
       " 0.0,\n",
       " 0.0,\n",
       " 0.0,\n",
       " 0.0,\n",
       " 0.0,\n",
       " 0.0,\n",
       " 0.0,\n",
       " 0.0,\n",
       " 0.0,\n",
       " 0.0,\n",
       " 0.0,\n",
       " 0.0,\n",
       " 0.0,\n",
       " 0.0,\n",
       " 0.0,\n",
       " 0.0,\n",
       " 1.0,\n",
       " 0.0,\n",
       " 0.0,\n",
       " 0.0,\n",
       " 0.0,\n",
       " 0.0,\n",
       " 1.0]"
      ]
     },
     "metadata": {},
     "execution_count": 16
    }
   ],
   "source": [
    "import pickle\n",
    "pickl = {'model': gs.best_estimator_}\n",
    "pickle.dump( pickl, open( 'model_file' + \".p\", \"wb\" ) )\n",
    "\n",
    "file_name = \"model_file.p\"\n",
    "with open(file_name, 'rb') as pickled:\n",
    "    data = pickle.load(pickled)\n",
    "    model = data['model']\n",
    "\n",
    "model.predict(np.array(list(x_test.iloc[1,:])).reshape(1,-1))[0]\n",
    "\n",
    "list(x_test.iloc[1,:])"
   ]
  },
  {
   "cell_type": "code",
   "execution_count": null,
   "metadata": {},
   "outputs": [],
   "source": []
  }
 ]
}